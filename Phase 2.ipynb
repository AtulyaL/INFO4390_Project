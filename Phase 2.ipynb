{
 "cells": [
  {
   "cell_type": "code",
   "execution_count": 1,
   "id": "b148571e",
   "metadata": {},
   "outputs": [],
   "source": [
    "import numpy as np\n",
    "import pandas as pd"
   ]
  },
  {
   "cell_type": "code",
   "execution_count": 9,
   "id": "6b6ea69f",
   "metadata": {},
   "outputs": [],
   "source": [
    "df = pd.read_csv('./data.csv',\n",
    "dtype ={'denial_reason_name_3': 'string',\n",
    " 'denial_reason_name_2': 'string',\n",
    " 'denial_reason_name_1': 'string',\n",
    " 'county_name': 'string',\n",
    " 'co_applicant_sex_name': 'string',\n",
    " 'co_applicant_race_name_5': 'string',\n",
    " 'co_applicant_race_name_4': 'string',\n",
    " 'co_applicant_race_name_3': 'string',\n",
    " 'co_applicant_race_name_2': 'string',\n",
    " 'co_applicant_race_name_1': 'string',\n",
    " 'co_applicant_ethnicity_name': 'string',\n",
    " 'census_tract_number': 'string',\n",
    " 'as_of_year': 'string',\n",
    " 'application_date_indicator': 'string',\n",
    " 'applicant_sex_name': 'string',\n",
    " 'applicant_race_name_5': 'string',\n",
    " 'applicant_race_name_4': 'string',\n",
    " 'applicant_race_name_3': 'string'})"
   ]
  },
  {
   "cell_type": "code",
   "execution_count": 14,
   "id": "3a296940",
   "metadata": {},
   "outputs": [],
   "source": [
    "percent_missing = (df.isnull().sum() * 100 / len(df))"
   ]
  },
  {
   "cell_type": "code",
   "execution_count": 26,
   "id": "cc66e822",
   "metadata": {},
   "outputs": [],
   "source": [
    "percent_missing = percent_missing.sort_values(ascending = False)"
   ]
  },
  {
   "cell_type": "code",
   "execution_count": 27,
   "id": "c63c46a6",
   "metadata": {},
   "outputs": [
    {
     "data": {
      "text/plain": [
       "co_applicant_race_name_5          99.996999\n",
       "co_applicant_race_name_4          99.995499\n",
       "applicant_race_name_5             99.990141\n",
       "applicant_race_name_4             99.985425\n",
       "co_applicant_race_name_3          99.977495\n",
       "applicant_race_name_3             99.936343\n",
       "denial_reason_name_3              99.732942\n",
       "co_applicant_race_name_2          99.600914\n",
       "applicant_race_name_2             99.040222\n",
       "denial_reason_name_2              98.554117\n",
       "rate_spread                       98.148601\n",
       "denial_reason_name_1              92.605762\n",
       "edit_status_name                  84.031198\n",
       "applicant_income_000s             13.295654\n",
       "msamd_name                         8.203341\n",
       "number_of_owner_occupied_units     0.133314\n",
       "tract_to_msamd_income              0.131814\n",
       "number_of_1_to_4_family_units      0.130957\n",
       "minority_population                0.130742\n",
       "population                         0.130742\n",
       "hud_median_family_income           0.129885\n",
       "census_tract_number                0.129885\n",
       "county_name                        0.078660\n",
       "action_taken_name                  0.000000\n",
       "hoepa_status_name                  0.000000\n",
       "co_applicant_ethnicity_name        0.000000\n",
       "loan_purpose_name                  0.000000\n",
       "loan_type_name                     0.000000\n",
       "state_name                         0.000000\n",
       "co_applicant_sex_name              0.000000\n",
       "owner_occupancy_name               0.000000\n",
       "preapproval_name                   0.000000\n",
       "co_applicant_race_name_1           0.000000\n",
       "lien_status_name                   0.000000\n",
       "as_of_year                         0.000000\n",
       "applicant_sex_name                 0.000000\n",
       "sequence_number                    0.000000\n",
       "agency_abbr                        0.000000\n",
       "agency_name                        0.000000\n",
       "applicant_ethnicity_name           0.000000\n",
       "state_abbr                         0.000000\n",
       "application_date_indicator         0.000000\n",
       "applicant_race_name_1              0.000000\n",
       "respondent_id                      0.000000\n",
       "purchaser_type_name                0.000000\n",
       "property_type_name                 0.000000\n",
       "loan_amount_000s                   0.000000\n",
       "dtype: float64"
      ]
     },
     "execution_count": 27,
     "metadata": {},
     "output_type": "execute_result"
    }
   ],
   "source": [
    "percent_missing"
   ]
  },
  {
   "cell_type": "code",
   "execution_count": null,
   "id": "b35b153b",
   "metadata": {},
   "outputs": [],
   "source": []
  }
 ],
 "metadata": {
  "kernelspec": {
   "display_name": "Python 3",
   "language": "python",
   "name": "python3"
  },
  "language_info": {
   "codemirror_mode": {
    "name": "ipython",
    "version": 3
   },
   "file_extension": ".py",
   "mimetype": "text/x-python",
   "name": "python",
   "nbconvert_exporter": "python",
   "pygments_lexer": "ipython3",
   "version": "3.8.8"
  }
 },
 "nbformat": 4,
 "nbformat_minor": 5
}
