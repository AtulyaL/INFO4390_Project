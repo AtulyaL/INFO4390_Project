{
 "cells": [
  {
   "cell_type": "markdown",
   "id": "d61a9922",
   "metadata": {},
   "source": [
    "# Phase 2\n",
    "## Step 1: Data Imports and Data Cleaning"
   ]
  },
  {
   "cell_type": "code",
   "execution_count": 8,
   "id": "b148571e",
   "metadata": {},
   "outputs": [
    {
     "ename": "MemoryError",
     "evalue": "Unable to allocate 109. MiB for an array with shape (14285496,) and data type object",
     "output_type": "error",
     "traceback": [
      "\u001b[1;31m---------------------------------------------------------------------------\u001b[0m",
      "\u001b[1;31mMemoryError\u001b[0m                               Traceback (most recent call last)",
      "Cell \u001b[1;32mIn[8], line 9\u001b[0m\n\u001b[0;32m      3\u001b[0m \u001b[38;5;28;01mimport\u001b[39;00m \u001b[38;5;21;01mpandas\u001b[39;00m \u001b[38;5;28;01mas\u001b[39;00m \u001b[38;5;21;01mpd\u001b[39;00m\n\u001b[0;32m      5\u001b[0m \u001b[38;5;66;03m# data found: https://www.consumerfinance.gov/data-research/hmda/historic-data/ (year 2017)\u001b[39;00m\n\u001b[0;32m      6\u001b[0m \u001b[38;5;66;03m# corresponding code information: https://files.consumerfinance.gov/hmda-historic-data-dictionaries/lar_record_codes.pdf\u001b[39;00m\n\u001b[0;32m      7\u001b[0m \n\u001b[0;32m      8\u001b[0m \u001b[38;5;66;03m# reading file\u001b[39;00m\n\u001b[1;32m----> 9\u001b[0m df \u001b[38;5;241m=\u001b[39m \u001b[43mpd\u001b[49m\u001b[38;5;241;43m.\u001b[39;49m\u001b[43mread_csv\u001b[49m\u001b[43m(\u001b[49m\u001b[38;5;124;43m'\u001b[39;49m\u001b[38;5;124;43mdata.csv\u001b[39;49m\u001b[38;5;124;43m'\u001b[39;49m\u001b[43m,\u001b[49m\u001b[43m \u001b[49m\u001b[43mdtype\u001b[49m\u001b[43m \u001b[49m\u001b[38;5;241;43m=\u001b[39;49m\u001b[43m \u001b[49m\u001b[43m{\u001b[49m\u001b[38;5;124;43m'\u001b[39;49m\u001b[38;5;124;43mapplicant_race_name_3\u001b[39;49m\u001b[38;5;124;43m'\u001b[39;49m\u001b[43m:\u001b[49m\u001b[43m \u001b[49m\u001b[38;5;124;43m'\u001b[39;49m\u001b[38;5;124;43mstring\u001b[39;49m\u001b[38;5;124;43m'\u001b[39;49m\u001b[43m,\u001b[49m\u001b[43m \u001b[49m\n\u001b[0;32m     10\u001b[0m \u001b[38;5;124;43m'\u001b[39;49m\u001b[38;5;124;43mapplicant_race_name_4\u001b[39;49m\u001b[38;5;124;43m'\u001b[39;49m\u001b[43m:\u001b[49m\u001b[43m \u001b[49m\u001b[38;5;124;43m'\u001b[39;49m\u001b[38;5;124;43mstring\u001b[39;49m\u001b[38;5;124;43m'\u001b[39;49m\u001b[43m,\u001b[49m\u001b[43m \u001b[49m\n\u001b[0;32m     11\u001b[0m \u001b[38;5;124;43m'\u001b[39;49m\u001b[38;5;124;43mapplicant_race_name_5\u001b[39;49m\u001b[38;5;124;43m'\u001b[39;49m\u001b[43m:\u001b[49m\u001b[43m \u001b[49m\u001b[38;5;124;43m'\u001b[39;49m\u001b[38;5;124;43mstring\u001b[39;49m\u001b[38;5;124;43m'\u001b[39;49m\u001b[43m,\u001b[49m\u001b[43m \u001b[49m\n\u001b[0;32m     12\u001b[0m \u001b[38;5;124;43m'\u001b[39;49m\u001b[38;5;124;43mco_applicant_race_name_3\u001b[39;49m\u001b[38;5;124;43m'\u001b[39;49m\u001b[43m:\u001b[49m\u001b[43m \u001b[49m\u001b[38;5;124;43m'\u001b[39;49m\u001b[38;5;124;43mstring\u001b[39;49m\u001b[38;5;124;43m'\u001b[39;49m\u001b[43m,\u001b[49m\u001b[43m \u001b[49m\n\u001b[0;32m     13\u001b[0m \u001b[38;5;124;43m'\u001b[39;49m\u001b[38;5;124;43mco_applicant_race_name_4\u001b[39;49m\u001b[38;5;124;43m'\u001b[39;49m\u001b[43m:\u001b[49m\u001b[43m \u001b[49m\u001b[38;5;124;43m'\u001b[39;49m\u001b[38;5;124;43mstring\u001b[39;49m\u001b[38;5;124;43m'\u001b[39;49m\u001b[43m,\u001b[49m\u001b[43m \u001b[49m\n\u001b[0;32m     14\u001b[0m \u001b[38;5;124;43m'\u001b[39;49m\u001b[38;5;124;43mco_applicant_race_name_5\u001b[39;49m\u001b[38;5;124;43m'\u001b[39;49m\u001b[43m:\u001b[49m\u001b[43m \u001b[49m\u001b[38;5;124;43m'\u001b[39;49m\u001b[38;5;124;43mstring\u001b[39;49m\u001b[38;5;124;43m'\u001b[39;49m\u001b[43m}\u001b[49m\u001b[43m)\u001b[49m\n",
      "File \u001b[1;32m~\\AppData\\Local\\Packages\\PythonSoftwareFoundation.Python.3.12_qbz5n2kfra8p0\\LocalCache\\local-packages\\Python312\\site-packages\\pandas\\io\\parsers\\readers.py:1026\u001b[0m, in \u001b[0;36mread_csv\u001b[1;34m(filepath_or_buffer, sep, delimiter, header, names, index_col, usecols, dtype, engine, converters, true_values, false_values, skipinitialspace, skiprows, skipfooter, nrows, na_values, keep_default_na, na_filter, verbose, skip_blank_lines, parse_dates, infer_datetime_format, keep_date_col, date_parser, date_format, dayfirst, cache_dates, iterator, chunksize, compression, thousands, decimal, lineterminator, quotechar, quoting, doublequote, escapechar, comment, encoding, encoding_errors, dialect, on_bad_lines, delim_whitespace, low_memory, memory_map, float_precision, storage_options, dtype_backend)\u001b[0m\n\u001b[0;32m   1013\u001b[0m kwds_defaults \u001b[38;5;241m=\u001b[39m _refine_defaults_read(\n\u001b[0;32m   1014\u001b[0m     dialect,\n\u001b[0;32m   1015\u001b[0m     delimiter,\n\u001b[1;32m   (...)\u001b[0m\n\u001b[0;32m   1022\u001b[0m     dtype_backend\u001b[38;5;241m=\u001b[39mdtype_backend,\n\u001b[0;32m   1023\u001b[0m )\n\u001b[0;32m   1024\u001b[0m kwds\u001b[38;5;241m.\u001b[39mupdate(kwds_defaults)\n\u001b[1;32m-> 1026\u001b[0m \u001b[38;5;28;01mreturn\u001b[39;00m \u001b[43m_read\u001b[49m\u001b[43m(\u001b[49m\u001b[43mfilepath_or_buffer\u001b[49m\u001b[43m,\u001b[49m\u001b[43m \u001b[49m\u001b[43mkwds\u001b[49m\u001b[43m)\u001b[49m\n",
      "File \u001b[1;32m~\\AppData\\Local\\Packages\\PythonSoftwareFoundation.Python.3.12_qbz5n2kfra8p0\\LocalCache\\local-packages\\Python312\\site-packages\\pandas\\io\\parsers\\readers.py:626\u001b[0m, in \u001b[0;36m_read\u001b[1;34m(filepath_or_buffer, kwds)\u001b[0m\n\u001b[0;32m    623\u001b[0m     \u001b[38;5;28;01mreturn\u001b[39;00m parser\n\u001b[0;32m    625\u001b[0m \u001b[38;5;28;01mwith\u001b[39;00m parser:\n\u001b[1;32m--> 626\u001b[0m     \u001b[38;5;28;01mreturn\u001b[39;00m \u001b[43mparser\u001b[49m\u001b[38;5;241;43m.\u001b[39;49m\u001b[43mread\u001b[49m\u001b[43m(\u001b[49m\u001b[43mnrows\u001b[49m\u001b[43m)\u001b[49m\n",
      "File \u001b[1;32m~\\AppData\\Local\\Packages\\PythonSoftwareFoundation.Python.3.12_qbz5n2kfra8p0\\LocalCache\\local-packages\\Python312\\site-packages\\pandas\\io\\parsers\\readers.py:1968\u001b[0m, in \u001b[0;36mTextFileReader.read\u001b[1;34m(self, nrows)\u001b[0m\n\u001b[0;32m   1965\u001b[0m     \u001b[38;5;28;01melse\u001b[39;00m:\n\u001b[0;32m   1966\u001b[0m         new_col_dict \u001b[38;5;241m=\u001b[39m col_dict\n\u001b[1;32m-> 1968\u001b[0m     df \u001b[38;5;241m=\u001b[39m \u001b[43mDataFrame\u001b[49m\u001b[43m(\u001b[49m\n\u001b[0;32m   1969\u001b[0m \u001b[43m        \u001b[49m\u001b[43mnew_col_dict\u001b[49m\u001b[43m,\u001b[49m\n\u001b[0;32m   1970\u001b[0m \u001b[43m        \u001b[49m\u001b[43mcolumns\u001b[49m\u001b[38;5;241;43m=\u001b[39;49m\u001b[43mcolumns\u001b[49m\u001b[43m,\u001b[49m\n\u001b[0;32m   1971\u001b[0m \u001b[43m        \u001b[49m\u001b[43mindex\u001b[49m\u001b[38;5;241;43m=\u001b[39;49m\u001b[43mindex\u001b[49m\u001b[43m,\u001b[49m\n\u001b[0;32m   1972\u001b[0m \u001b[43m        \u001b[49m\u001b[43mcopy\u001b[49m\u001b[38;5;241;43m=\u001b[39;49m\u001b[38;5;129;43;01mnot\u001b[39;49;00m\u001b[43m \u001b[49m\u001b[43musing_copy_on_write\u001b[49m\u001b[43m(\u001b[49m\u001b[43m)\u001b[49m\u001b[43m,\u001b[49m\n\u001b[0;32m   1973\u001b[0m \u001b[43m    \u001b[49m\u001b[43m)\u001b[49m\n\u001b[0;32m   1975\u001b[0m     \u001b[38;5;28mself\u001b[39m\u001b[38;5;241m.\u001b[39m_currow \u001b[38;5;241m+\u001b[39m\u001b[38;5;241m=\u001b[39m new_rows\n\u001b[0;32m   1976\u001b[0m \u001b[38;5;28;01mreturn\u001b[39;00m df\n",
      "File \u001b[1;32m~\\AppData\\Local\\Packages\\PythonSoftwareFoundation.Python.3.12_qbz5n2kfra8p0\\LocalCache\\local-packages\\Python312\\site-packages\\pandas\\core\\frame.py:767\u001b[0m, in \u001b[0;36mDataFrame.__init__\u001b[1;34m(self, data, index, columns, dtype, copy)\u001b[0m\n\u001b[0;32m    761\u001b[0m     mgr \u001b[38;5;241m=\u001b[39m \u001b[38;5;28mself\u001b[39m\u001b[38;5;241m.\u001b[39m_init_mgr(\n\u001b[0;32m    762\u001b[0m         data, axes\u001b[38;5;241m=\u001b[39m{\u001b[38;5;124m\"\u001b[39m\u001b[38;5;124mindex\u001b[39m\u001b[38;5;124m\"\u001b[39m: index, \u001b[38;5;124m\"\u001b[39m\u001b[38;5;124mcolumns\u001b[39m\u001b[38;5;124m\"\u001b[39m: columns}, dtype\u001b[38;5;241m=\u001b[39mdtype, copy\u001b[38;5;241m=\u001b[39mcopy\n\u001b[0;32m    763\u001b[0m     )\n\u001b[0;32m    765\u001b[0m \u001b[38;5;28;01melif\u001b[39;00m \u001b[38;5;28misinstance\u001b[39m(data, \u001b[38;5;28mdict\u001b[39m):\n\u001b[0;32m    766\u001b[0m     \u001b[38;5;66;03m# GH#38939 de facto copy defaults to False only in non-dict cases\u001b[39;00m\n\u001b[1;32m--> 767\u001b[0m     mgr \u001b[38;5;241m=\u001b[39m \u001b[43mdict_to_mgr\u001b[49m\u001b[43m(\u001b[49m\u001b[43mdata\u001b[49m\u001b[43m,\u001b[49m\u001b[43m \u001b[49m\u001b[43mindex\u001b[49m\u001b[43m,\u001b[49m\u001b[43m \u001b[49m\u001b[43mcolumns\u001b[49m\u001b[43m,\u001b[49m\u001b[43m \u001b[49m\u001b[43mdtype\u001b[49m\u001b[38;5;241;43m=\u001b[39;49m\u001b[43mdtype\u001b[49m\u001b[43m,\u001b[49m\u001b[43m \u001b[49m\u001b[43mcopy\u001b[49m\u001b[38;5;241;43m=\u001b[39;49m\u001b[43mcopy\u001b[49m\u001b[43m,\u001b[49m\u001b[43m \u001b[49m\u001b[43mtyp\u001b[49m\u001b[38;5;241;43m=\u001b[39;49m\u001b[43mmanager\u001b[49m\u001b[43m)\u001b[49m\n\u001b[0;32m    768\u001b[0m \u001b[38;5;28;01melif\u001b[39;00m \u001b[38;5;28misinstance\u001b[39m(data, ma\u001b[38;5;241m.\u001b[39mMaskedArray):\n\u001b[0;32m    769\u001b[0m     \u001b[38;5;28;01mfrom\u001b[39;00m \u001b[38;5;21;01mnumpy\u001b[39;00m\u001b[38;5;21;01m.\u001b[39;00m\u001b[38;5;21;01mma\u001b[39;00m \u001b[38;5;28;01mimport\u001b[39;00m mrecords\n",
      "File \u001b[1;32m~\\AppData\\Local\\Packages\\PythonSoftwareFoundation.Python.3.12_qbz5n2kfra8p0\\LocalCache\\local-packages\\Python312\\site-packages\\pandas\\core\\internals\\construction.py:443\u001b[0m, in \u001b[0;36mdict_to_mgr\u001b[1;34m(data, index, columns, dtype, typ, copy)\u001b[0m\n\u001b[0;32m    440\u001b[0m \u001b[38;5;28;01mif\u001b[39;00m columns \u001b[38;5;129;01mis\u001b[39;00m \u001b[38;5;129;01mnot\u001b[39;00m \u001b[38;5;28;01mNone\u001b[39;00m:\n\u001b[0;32m    441\u001b[0m     \u001b[38;5;28;01mfrom\u001b[39;00m \u001b[38;5;21;01mpandas\u001b[39;00m\u001b[38;5;21;01m.\u001b[39;00m\u001b[38;5;21;01mcore\u001b[39;00m\u001b[38;5;21;01m.\u001b[39;00m\u001b[38;5;21;01mseries\u001b[39;00m \u001b[38;5;28;01mimport\u001b[39;00m Series\n\u001b[1;32m--> 443\u001b[0m     arrays \u001b[38;5;241m=\u001b[39m \u001b[43mSeries\u001b[49m\u001b[43m(\u001b[49m\u001b[43mdata\u001b[49m\u001b[43m,\u001b[49m\u001b[43m \u001b[49m\u001b[43mindex\u001b[49m\u001b[38;5;241;43m=\u001b[39;49m\u001b[43mcolumns\u001b[49m\u001b[43m,\u001b[49m\u001b[43m \u001b[49m\u001b[43mdtype\u001b[49m\u001b[38;5;241;43m=\u001b[39;49m\u001b[38;5;28;43mobject\u001b[39;49m\u001b[43m)\u001b[49m\n\u001b[0;32m    444\u001b[0m     missing \u001b[38;5;241m=\u001b[39m arrays\u001b[38;5;241m.\u001b[39misna()\n\u001b[0;32m    445\u001b[0m     \u001b[38;5;28;01mif\u001b[39;00m index \u001b[38;5;129;01mis\u001b[39;00m \u001b[38;5;28;01mNone\u001b[39;00m:\n\u001b[0;32m    446\u001b[0m         \u001b[38;5;66;03m# GH10856\u001b[39;00m\n\u001b[0;32m    447\u001b[0m         \u001b[38;5;66;03m# raise ValueError if only scalars in dict\u001b[39;00m\n",
      "File \u001b[1;32m~\\AppData\\Local\\Packages\\PythonSoftwareFoundation.Python.3.12_qbz5n2kfra8p0\\LocalCache\\local-packages\\Python312\\site-packages\\pandas\\core\\series.py:537\u001b[0m, in \u001b[0;36mSeries.__init__\u001b[1;34m(self, data, index, dtype, name, copy, fastpath)\u001b[0m\n\u001b[0;32m    535\u001b[0m         data \u001b[38;5;241m=\u001b[39m data\u001b[38;5;241m.\u001b[39m_mgr\n\u001b[0;32m    536\u001b[0m \u001b[38;5;28;01melif\u001b[39;00m is_dict_like(data):\n\u001b[1;32m--> 537\u001b[0m     data, index \u001b[38;5;241m=\u001b[39m \u001b[38;5;28;43mself\u001b[39;49m\u001b[38;5;241;43m.\u001b[39;49m\u001b[43m_init_dict\u001b[49m\u001b[43m(\u001b[49m\u001b[43mdata\u001b[49m\u001b[43m,\u001b[49m\u001b[43m \u001b[49m\u001b[43mindex\u001b[49m\u001b[43m,\u001b[49m\u001b[43m \u001b[49m\u001b[43mdtype\u001b[49m\u001b[43m)\u001b[49m\n\u001b[0;32m    538\u001b[0m     dtype \u001b[38;5;241m=\u001b[39m \u001b[38;5;28;01mNone\u001b[39;00m\n\u001b[0;32m    539\u001b[0m     copy \u001b[38;5;241m=\u001b[39m \u001b[38;5;28;01mFalse\u001b[39;00m\n",
      "File \u001b[1;32m~\\AppData\\Local\\Packages\\PythonSoftwareFoundation.Python.3.12_qbz5n2kfra8p0\\LocalCache\\local-packages\\Python312\\site-packages\\pandas\\core\\series.py:651\u001b[0m, in \u001b[0;36mSeries._init_dict\u001b[1;34m(self, data, index, dtype)\u001b[0m\n\u001b[0;32m    648\u001b[0m     keys, values \u001b[38;5;241m=\u001b[39m default_index(\u001b[38;5;241m0\u001b[39m), []\n\u001b[0;32m    650\u001b[0m \u001b[38;5;66;03m# Input is now list-like, so rely on \"standard\" construction:\u001b[39;00m\n\u001b[1;32m--> 651\u001b[0m s \u001b[38;5;241m=\u001b[39m \u001b[43mSeries\u001b[49m\u001b[43m(\u001b[49m\u001b[43mvalues\u001b[49m\u001b[43m,\u001b[49m\u001b[43m \u001b[49m\u001b[43mindex\u001b[49m\u001b[38;5;241;43m=\u001b[39;49m\u001b[43mkeys\u001b[49m\u001b[43m,\u001b[49m\u001b[43m \u001b[49m\u001b[43mdtype\u001b[49m\u001b[38;5;241;43m=\u001b[39;49m\u001b[43mdtype\u001b[49m\u001b[43m)\u001b[49m\n\u001b[0;32m    653\u001b[0m \u001b[38;5;66;03m# Now we just make sure the order is respected, if any\u001b[39;00m\n\u001b[0;32m    654\u001b[0m \u001b[38;5;28;01mif\u001b[39;00m data \u001b[38;5;129;01mand\u001b[39;00m index \u001b[38;5;129;01mis\u001b[39;00m \u001b[38;5;129;01mnot\u001b[39;00m \u001b[38;5;28;01mNone\u001b[39;00m:\n",
      "File \u001b[1;32m~\\AppData\\Local\\Packages\\PythonSoftwareFoundation.Python.3.12_qbz5n2kfra8p0\\LocalCache\\local-packages\\Python312\\site-packages\\pandas\\core\\series.py:584\u001b[0m, in \u001b[0;36mSeries.__init__\u001b[1;34m(self, data, index, dtype, name, copy, fastpath)\u001b[0m\n\u001b[0;32m    582\u001b[0m         data \u001b[38;5;241m=\u001b[39m data\u001b[38;5;241m.\u001b[39mcopy()\n\u001b[0;32m    583\u001b[0m \u001b[38;5;28;01melse\u001b[39;00m:\n\u001b[1;32m--> 584\u001b[0m     data \u001b[38;5;241m=\u001b[39m \u001b[43msanitize_array\u001b[49m\u001b[43m(\u001b[49m\u001b[43mdata\u001b[49m\u001b[43m,\u001b[49m\u001b[43m \u001b[49m\u001b[43mindex\u001b[49m\u001b[43m,\u001b[49m\u001b[43m \u001b[49m\u001b[43mdtype\u001b[49m\u001b[43m,\u001b[49m\u001b[43m \u001b[49m\u001b[43mcopy\u001b[49m\u001b[43m)\u001b[49m\n\u001b[0;32m    586\u001b[0m     manager \u001b[38;5;241m=\u001b[39m _get_option(\u001b[38;5;124m\"\u001b[39m\u001b[38;5;124mmode.data_manager\u001b[39m\u001b[38;5;124m\"\u001b[39m, silent\u001b[38;5;241m=\u001b[39m\u001b[38;5;28;01mTrue\u001b[39;00m)\n\u001b[0;32m    587\u001b[0m     \u001b[38;5;28;01mif\u001b[39;00m manager \u001b[38;5;241m==\u001b[39m \u001b[38;5;124m\"\u001b[39m\u001b[38;5;124mblock\u001b[39m\u001b[38;5;124m\"\u001b[39m:\n",
      "File \u001b[1;32m~\\AppData\\Local\\Packages\\PythonSoftwareFoundation.Python.3.12_qbz5n2kfra8p0\\LocalCache\\local-packages\\Python312\\site-packages\\pandas\\core\\construction.py:648\u001b[0m, in \u001b[0;36msanitize_array\u001b[1;34m(data, index, dtype, copy, allow_2d)\u001b[0m\n\u001b[0;32m    645\u001b[0m     subarr \u001b[38;5;241m=\u001b[39m np\u001b[38;5;241m.\u001b[39marray([], dtype\u001b[38;5;241m=\u001b[39mnp\u001b[38;5;241m.\u001b[39mfloat64)\n\u001b[0;32m    647\u001b[0m \u001b[38;5;28;01melif\u001b[39;00m dtype \u001b[38;5;129;01mis\u001b[39;00m \u001b[38;5;129;01mnot\u001b[39;00m \u001b[38;5;28;01mNone\u001b[39;00m:\n\u001b[1;32m--> 648\u001b[0m     subarr \u001b[38;5;241m=\u001b[39m \u001b[43m_try_cast\u001b[49m\u001b[43m(\u001b[49m\u001b[43mdata\u001b[49m\u001b[43m,\u001b[49m\u001b[43m \u001b[49m\u001b[43mdtype\u001b[49m\u001b[43m,\u001b[49m\u001b[43m \u001b[49m\u001b[43mcopy\u001b[49m\u001b[43m)\u001b[49m\n\u001b[0;32m    650\u001b[0m \u001b[38;5;28;01melse\u001b[39;00m:\n\u001b[0;32m    651\u001b[0m     subarr \u001b[38;5;241m=\u001b[39m maybe_convert_platform(data)\n",
      "File \u001b[1;32m~\\AppData\\Local\\Packages\\PythonSoftwareFoundation.Python.3.12_qbz5n2kfra8p0\\LocalCache\\local-packages\\Python312\\site-packages\\pandas\\core\\construction.py:787\u001b[0m, in \u001b[0;36m_try_cast\u001b[1;34m(arr, dtype, copy)\u001b[0m\n\u001b[0;32m    785\u001b[0m \u001b[38;5;28;01mif\u001b[39;00m dtype \u001b[38;5;241m==\u001b[39m \u001b[38;5;28mobject\u001b[39m:\n\u001b[0;32m    786\u001b[0m     \u001b[38;5;28;01mif\u001b[39;00m \u001b[38;5;129;01mnot\u001b[39;00m is_ndarray:\n\u001b[1;32m--> 787\u001b[0m         subarr \u001b[38;5;241m=\u001b[39m \u001b[43mconstruct_1d_object_array_from_listlike\u001b[49m\u001b[43m(\u001b[49m\u001b[43marr\u001b[49m\u001b[43m)\u001b[49m\n\u001b[0;32m    788\u001b[0m         \u001b[38;5;28;01mreturn\u001b[39;00m subarr\n\u001b[0;32m    789\u001b[0m     \u001b[38;5;28;01mreturn\u001b[39;00m ensure_wrapped_if_datetimelike(arr)\u001b[38;5;241m.\u001b[39mastype(dtype, copy\u001b[38;5;241m=\u001b[39mcopy)\n",
      "File \u001b[1;32m~\\AppData\\Local\\Packages\\PythonSoftwareFoundation.Python.3.12_qbz5n2kfra8p0\\LocalCache\\local-packages\\Python312\\site-packages\\pandas\\core\\dtypes\\cast.py:1598\u001b[0m, in \u001b[0;36mconstruct_1d_object_array_from_listlike\u001b[1;34m(values)\u001b[0m\n\u001b[0;32m   1595\u001b[0m \u001b[38;5;66;03m# numpy will try to interpret nested lists as further dimensions, hence\u001b[39;00m\n\u001b[0;32m   1596\u001b[0m \u001b[38;5;66;03m# making a 1D array that contains list-likes is a bit tricky:\u001b[39;00m\n\u001b[0;32m   1597\u001b[0m result \u001b[38;5;241m=\u001b[39m np\u001b[38;5;241m.\u001b[39mempty(\u001b[38;5;28mlen\u001b[39m(values), dtype\u001b[38;5;241m=\u001b[39m\u001b[38;5;124m\"\u001b[39m\u001b[38;5;124mobject\u001b[39m\u001b[38;5;124m\"\u001b[39m)\n\u001b[1;32m-> 1598\u001b[0m \u001b[43mresult\u001b[49m\u001b[43m[\u001b[49m\u001b[43m:\u001b[49m\u001b[43m]\u001b[49m \u001b[38;5;241m=\u001b[39m values\n\u001b[0;32m   1599\u001b[0m \u001b[38;5;28;01mreturn\u001b[39;00m result\n",
      "File \u001b[1;32m~\\AppData\\Local\\Packages\\PythonSoftwareFoundation.Python.3.12_qbz5n2kfra8p0\\LocalCache\\local-packages\\Python312\\site-packages\\pandas\\core\\series.py:1022\u001b[0m, in \u001b[0;36mSeries.__array__\u001b[1;34m(self, dtype)\u001b[0m\n\u001b[0;32m    975\u001b[0m \u001b[38;5;250m\u001b[39m\u001b[38;5;124;03m\"\"\"\u001b[39;00m\n\u001b[0;32m    976\u001b[0m \u001b[38;5;124;03mReturn the values as a NumPy array.\u001b[39;00m\n\u001b[0;32m    977\u001b[0m \n\u001b[1;32m   (...)\u001b[0m\n\u001b[0;32m   1019\u001b[0m \u001b[38;5;124;03m      dtype='datetime64[ns]')\u001b[39;00m\n\u001b[0;32m   1020\u001b[0m \u001b[38;5;124;03m\"\"\"\u001b[39;00m\n\u001b[0;32m   1021\u001b[0m values \u001b[38;5;241m=\u001b[39m \u001b[38;5;28mself\u001b[39m\u001b[38;5;241m.\u001b[39m_values\n\u001b[1;32m-> 1022\u001b[0m arr \u001b[38;5;241m=\u001b[39m \u001b[43mnp\u001b[49m\u001b[38;5;241;43m.\u001b[39;49m\u001b[43masarray\u001b[49m\u001b[43m(\u001b[49m\u001b[43mvalues\u001b[49m\u001b[43m,\u001b[49m\u001b[43m \u001b[49m\u001b[43mdtype\u001b[49m\u001b[38;5;241;43m=\u001b[39;49m\u001b[43mdtype\u001b[49m\u001b[43m)\u001b[49m\n\u001b[0;32m   1023\u001b[0m \u001b[38;5;28;01mif\u001b[39;00m using_copy_on_write() \u001b[38;5;129;01mand\u001b[39;00m astype_is_view(values\u001b[38;5;241m.\u001b[39mdtype, arr\u001b[38;5;241m.\u001b[39mdtype):\n\u001b[0;32m   1024\u001b[0m     arr \u001b[38;5;241m=\u001b[39m arr\u001b[38;5;241m.\u001b[39mview()\n",
      "\u001b[1;31mMemoryError\u001b[0m: Unable to allocate 109. MiB for an array with shape (14285496,) and data type object"
     ]
    }
   ],
   "source": [
    "# importing packages\n",
    "import numpy as np\n",
    "import pandas as pd\n",
    "\n",
    "# data found: https://www.consumerfinance.gov/data-research/hmda/historic-data/ (year 2017)\n",
    "# corresponding code information: https://files.consumerfinance.gov/hmda-historic-data-dictionaries/lar_record_codes.pdf\n",
    "\n",
    "# reading file\n",
    "df = pd.read_csv('data.csv', dtype = {'applicant_race_name_3': 'string', \n",
    "'applicant_race_name_4': 'string', \n",
    "'applicant_race_name_5': 'string', \n",
    "'co_applicant_race_name_3': 'string', \n",
    "'co_applicant_race_name_4': 'string', \n",
    "'co_applicant_race_name_5': 'string'})"
   ]
  },
  {
   "cell_type": "code",
   "execution_count": 7,
   "id": "b3dd50c7",
   "metadata": {},
   "outputs": [
    {
     "ename": "NameError",
     "evalue": "name 'df' is not defined",
     "output_type": "error",
     "traceback": [
      "\u001b[1;31m---------------------------------------------------------------------------\u001b[0m",
      "\u001b[1;31mNameError\u001b[0m                                 Traceback (most recent call last)",
      "Cell \u001b[1;32mIn[7], line 1\u001b[0m\n\u001b[1;32m----> 1\u001b[0m \u001b[43mdf\u001b[49m\u001b[38;5;241m.\u001b[39mhead()\n",
      "\u001b[1;31mNameError\u001b[0m: name 'df' is not defined"
     ]
    }
   ],
   "source": [
    "df.head()"
   ]
  },
  {
   "cell_type": "code",
   "execution_count": null,
   "id": "eaff764b",
   "metadata": {},
   "outputs": [],
   "source": [
    "# drop unnecessary columns based on scan of columns and documentation from website\n",
    "df = df.drop(df.keys()[df.keys().str[-4:] == 'name'], axis = 1)"
   ]
  },
  {
   "cell_type": "code",
   "execution_count": null,
   "id": "3a296940",
   "metadata": {
    "scrolled": true
   },
   "outputs": [
    {
     "data": {
      "text/plain": [
       "application_date_indicator    100.000000\n",
       "sequence_number               100.000000\n",
       "edit_status                   100.000000\n",
       "co_applicant_race_5            99.997557\n",
       "co_applicant_race_4            99.995352\n",
       "applicant_race_5               99.992412\n",
       "applicant_race_4               99.988492\n",
       "co_applicant_race_3            99.984992\n",
       "applicant_race_3               99.951069\n",
       "co_applicant_race_2            99.787099\n",
       "denial_reason_3                99.654629\n",
       "applicant_race_2               99.367316\n",
       "denial_reason_2                97.863903\n",
       "rate_spread                    96.547036\n",
       "denial_reason_1                90.116059\n",
       "dtype: float64"
      ]
     },
     "execution_count": 99,
     "metadata": {},
     "output_type": "execute_result"
    }
   ],
   "source": [
    "# calculating percent missing to see what columns to drop for insufficient info (greater than 30%)\n",
    "percent_missing = (df.isnull().sum() * 100 / len(df))\n",
    "percent_missing = percent_missing.sort_values(ascending = False)\n",
    "percent_missing[percent_missing > 30]"
   ]
  },
  {
   "cell_type": "code",
   "execution_count": null,
   "id": "e9d33f5f",
   "metadata": {},
   "outputs": [],
   "source": [
    "# dropping these columns\n",
    "df = df.drop(percent_missing[percent_missing > 30].index, axis = 1)"
   ]
  },
  {
   "cell_type": "code",
   "execution_count": null,
   "id": "d808cbce",
   "metadata": {},
   "outputs": [],
   "source": [
    "# dropping rows that have na values\n",
    "df = df.dropna()"
   ]
  },
  {
   "cell_type": "code",
   "execution_count": null,
   "id": "ac289aa2",
   "metadata": {},
   "outputs": [],
   "source": [
    "# because all years are 2017, drop first column\n",
    "df = df.drop('as_of_year', axis = 1)"
   ]
  },
  {
   "cell_type": "code",
   "execution_count": null,
   "id": "e4528398",
   "metadata": {},
   "outputs": [],
   "source": [
    "# because we are filtering comparing men to women, we drop all columns where sex != 1 or 2\n",
    "df = df[(df['applicant_sex'] == 1) | (df['applicant_sex'] == 2)]"
   ]
  },
  {
   "cell_type": "code",
   "execution_count": null,
   "id": "c87b0633",
   "metadata": {},
   "outputs": [],
   "source": [
    "# save cleaned dataset\n",
    "df.to_csv('cleaned_data.csv')"
   ]
  },
  {
   "cell_type": "code",
   "execution_count": null,
   "id": "20092beb",
   "metadata": {},
   "outputs": [
    {
     "data": {
      "text/html": [
       "<div>\n",
       "<style scoped>\n",
       "    .dataframe tbody tr th:only-of-type {\n",
       "        vertical-align: middle;\n",
       "    }\n",
       "\n",
       "    .dataframe tbody tr th {\n",
       "        vertical-align: top;\n",
       "    }\n",
       "\n",
       "    .dataframe thead th {\n",
       "        text-align: right;\n",
       "    }\n",
       "</style>\n",
       "<table border=\"1\" class=\"dataframe\">\n",
       "  <thead>\n",
       "    <tr style=\"text-align: right;\">\n",
       "      <th></th>\n",
       "      <th>respondent_id</th>\n",
       "      <th>agency_code</th>\n",
       "      <th>loan_type</th>\n",
       "      <th>property_type</th>\n",
       "      <th>loan_purpose</th>\n",
       "      <th>owner_occupancy</th>\n",
       "      <th>loan_amount_000s</th>\n",
       "      <th>preapproval</th>\n",
       "      <th>action_taken</th>\n",
       "      <th>msamd</th>\n",
       "      <th>...</th>\n",
       "      <th>applicant_income_000s</th>\n",
       "      <th>purchaser_type</th>\n",
       "      <th>hoepa_status</th>\n",
       "      <th>lien_status</th>\n",
       "      <th>population</th>\n",
       "      <th>minority_population</th>\n",
       "      <th>hud_median_family_income</th>\n",
       "      <th>tract_to_msamd_income</th>\n",
       "      <th>number_of_owner_occupied_units</th>\n",
       "      <th>number_of_1_to_4_family_units</th>\n",
       "    </tr>\n",
       "  </thead>\n",
       "  <tbody>\n",
       "    <tr>\n",
       "      <th>0</th>\n",
       "      <td>0000342634</td>\n",
       "      <td>9</td>\n",
       "      <td>1</td>\n",
       "      <td>1</td>\n",
       "      <td>3</td>\n",
       "      <td>1</td>\n",
       "      <td>9.0</td>\n",
       "      <td>3</td>\n",
       "      <td>3</td>\n",
       "      <td>33860.0</td>\n",
       "      <td>...</td>\n",
       "      <td>54.0</td>\n",
       "      <td>0</td>\n",
       "      <td>2</td>\n",
       "      <td>2</td>\n",
       "      <td>1948.0</td>\n",
       "      <td>12.58</td>\n",
       "      <td>59700.0</td>\n",
       "      <td>122.93</td>\n",
       "      <td>507.0</td>\n",
       "      <td>724.0</td>\n",
       "    </tr>\n",
       "    <tr>\n",
       "      <th>2</th>\n",
       "      <td>22-3039688</td>\n",
       "      <td>7</td>\n",
       "      <td>3</td>\n",
       "      <td>1</td>\n",
       "      <td>3</td>\n",
       "      <td>1</td>\n",
       "      <td>161.0</td>\n",
       "      <td>3</td>\n",
       "      <td>5</td>\n",
       "      <td>33860.0</td>\n",
       "      <td>...</td>\n",
       "      <td>64.0</td>\n",
       "      <td>0</td>\n",
       "      <td>2</td>\n",
       "      <td>1</td>\n",
       "      <td>1948.0</td>\n",
       "      <td>12.58</td>\n",
       "      <td>59700.0</td>\n",
       "      <td>122.93</td>\n",
       "      <td>507.0</td>\n",
       "      <td>724.0</td>\n",
       "    </tr>\n",
       "    <tr>\n",
       "      <th>3</th>\n",
       "      <td>20-3878295</td>\n",
       "      <td>5</td>\n",
       "      <td>1</td>\n",
       "      <td>1</td>\n",
       "      <td>2</td>\n",
       "      <td>1</td>\n",
       "      <td>90.0</td>\n",
       "      <td>3</td>\n",
       "      <td>1</td>\n",
       "      <td>33860.0</td>\n",
       "      <td>...</td>\n",
       "      <td>61.0</td>\n",
       "      <td>1</td>\n",
       "      <td>2</td>\n",
       "      <td>1</td>\n",
       "      <td>1948.0</td>\n",
       "      <td>12.58</td>\n",
       "      <td>59700.0</td>\n",
       "      <td>122.93</td>\n",
       "      <td>507.0</td>\n",
       "      <td>724.0</td>\n",
       "    </tr>\n",
       "    <tr>\n",
       "      <th>4</th>\n",
       "      <td>0000342634</td>\n",
       "      <td>9</td>\n",
       "      <td>1</td>\n",
       "      <td>1</td>\n",
       "      <td>3</td>\n",
       "      <td>2</td>\n",
       "      <td>41.0</td>\n",
       "      <td>3</td>\n",
       "      <td>1</td>\n",
       "      <td>33860.0</td>\n",
       "      <td>...</td>\n",
       "      <td>133.0</td>\n",
       "      <td>0</td>\n",
       "      <td>2</td>\n",
       "      <td>1</td>\n",
       "      <td>1948.0</td>\n",
       "      <td>12.58</td>\n",
       "      <td>59700.0</td>\n",
       "      <td>122.93</td>\n",
       "      <td>507.0</td>\n",
       "      <td>724.0</td>\n",
       "    </tr>\n",
       "    <tr>\n",
       "      <th>6</th>\n",
       "      <td>0000013303</td>\n",
       "      <td>3</td>\n",
       "      <td>2</td>\n",
       "      <td>1</td>\n",
       "      <td>1</td>\n",
       "      <td>1</td>\n",
       "      <td>76.0</td>\n",
       "      <td>3</td>\n",
       "      <td>1</td>\n",
       "      <td>33860.0</td>\n",
       "      <td>...</td>\n",
       "      <td>87.0</td>\n",
       "      <td>6</td>\n",
       "      <td>2</td>\n",
       "      <td>1</td>\n",
       "      <td>1948.0</td>\n",
       "      <td>12.58</td>\n",
       "      <td>59700.0</td>\n",
       "      <td>122.93</td>\n",
       "      <td>507.0</td>\n",
       "      <td>724.0</td>\n",
       "    </tr>\n",
       "  </tbody>\n",
       "</table>\n",
       "<p>5 rows × 29 columns</p>\n",
       "</div>"
      ],
      "text/plain": [
       "  respondent_id  agency_code  loan_type  property_type  loan_purpose  \\\n",
       "0    0000342634            9          1              1             3   \n",
       "2    22-3039688            7          3              1             3   \n",
       "3    20-3878295            5          1              1             2   \n",
       "4    0000342634            9          1              1             3   \n",
       "6    0000013303            3          2              1             1   \n",
       "\n",
       "   owner_occupancy  loan_amount_000s  preapproval  action_taken    msamd  ...  \\\n",
       "0                1               9.0            3             3  33860.0  ...   \n",
       "2                1             161.0            3             5  33860.0  ...   \n",
       "3                1              90.0            3             1  33860.0  ...   \n",
       "4                2              41.0            3             1  33860.0  ...   \n",
       "6                1              76.0            3             1  33860.0  ...   \n",
       "\n",
       "   applicant_income_000s  purchaser_type  hoepa_status  lien_status  \\\n",
       "0                   54.0               0             2            2   \n",
       "2                   64.0               0             2            1   \n",
       "3                   61.0               1             2            1   \n",
       "4                  133.0               0             2            1   \n",
       "6                   87.0               6             2            1   \n",
       "\n",
       "   population  minority_population  hud_median_family_income  \\\n",
       "0      1948.0                12.58                   59700.0   \n",
       "2      1948.0                12.58                   59700.0   \n",
       "3      1948.0                12.58                   59700.0   \n",
       "4      1948.0                12.58                   59700.0   \n",
       "6      1948.0                12.58                   59700.0   \n",
       "\n",
       "   tract_to_msamd_income  number_of_owner_occupied_units  \\\n",
       "0                 122.93                           507.0   \n",
       "2                 122.93                           507.0   \n",
       "3                 122.93                           507.0   \n",
       "4                 122.93                           507.0   \n",
       "6                 122.93                           507.0   \n",
       "\n",
       "   number_of_1_to_4_family_units  \n",
       "0                          724.0  \n",
       "2                          724.0  \n",
       "3                          724.0  \n",
       "4                          724.0  \n",
       "6                          724.0  \n",
       "\n",
       "[5 rows x 29 columns]"
      ]
     },
     "execution_count": 105,
     "metadata": {},
     "output_type": "execute_result"
    }
   ],
   "source": [
    "df.head()"
   ]
  },
  {
   "cell_type": "markdown",
   "id": "f4b7370e-7d32-4c16-9cd5-feb838958eb6",
   "metadata": {},
   "source": [
    "## Step 2: Summary Statistics"
   ]
  },
  {
   "cell_type": "code",
   "execution_count": null,
   "id": "cdffae10",
   "metadata": {},
   "outputs": [],
   "source": [
    "import numpy as np\n",
    "import pandas as pd\n",
    "\n",
    "df_cleaned = pd.read_csv(\"cleaned_data.csv\")"
   ]
  },
  {
   "cell_type": "code",
   "execution_count": null,
   "id": "81ca2baa-eda2-4f37-88b0-6f3ecff9c5c5",
   "metadata": {},
   "outputs": [
    {
     "name": "stdout",
     "output_type": "stream",
     "text": [
      "Number of overall rows in the cleaned dataset:\n"
     ]
    },
    {
     "data": {
      "text/plain": [
       "9793702"
      ]
     },
     "execution_count": 126,
     "metadata": {},
     "output_type": "execute_result"
    }
   ],
   "source": [
    "# number of overall rows in the cleaned dataset\n",
    "\n",
    "print(\"Number of overall rows in the cleaned dataset:\")\n",
    "df_cleaned.shape[0]"
   ]
  },
  {
   "cell_type": "code",
   "execution_count": null,
   "id": "b13a49de-f8da-4586-a0ea-d927af62594f",
   "metadata": {},
   "outputs": [
    {
     "name": "stdout",
     "output_type": "stream",
     "text": [
      "Number of overall columns in the cleaned dataset:\n"
     ]
    },
    {
     "data": {
      "text/plain": [
       "30"
      ]
     },
     "execution_count": 127,
     "metadata": {},
     "output_type": "execute_result"
    }
   ],
   "source": [
    "# number of overall cols in the cleaned dataset\n",
    "\n",
    "print(\"Number of overall columns in the cleaned dataset:\")\n",
    "df_cleaned.shape[1]"
   ]
  },
  {
   "cell_type": "code",
   "execution_count": null,
   "id": "e931b872-4604-46c1-837e-7ab9a3c844c4",
   "metadata": {},
   "outputs": [
    {
     "name": "stdout",
     "output_type": "stream",
     "text": [
      "Number of overall rows of Non-black people in the cleaned dataset:\n",
      "8971510\n",
      "Number of overall columns of Non-black people in the cleaned dataset:\n",
      "30\n",
      "Number of overall rows of Black or African American people in the cleaned dataset:\n",
      "822192\n",
      "Number of overall columns of Black or African American people in the cleaned dataset:\n",
      "30\n"
     ]
    }
   ],
   "source": [
    "# sensitive attribute 1: Race\n",
    "\n",
    "# Race: Non-black\n",
    "df_cleaned_non_black = df_cleaned.loc[df_cleaned['applicant_race_1'] != 3]\n",
    "\n",
    "print(\"Number of overall rows of Non-black people in the cleaned dataset:\")\n",
    "print(df_cleaned_non_black.shape[0])\n",
    "print(\"Number of overall columns of Non-black people in the cleaned dataset:\")\n",
    "print(df_cleaned_non_black.shape[1])\n",
    "\n",
    "# Race: Black\n",
    "df_cleaned_black = df_cleaned.loc[df_cleaned['applicant_race_1'] == 3]\n",
    "\n",
    "print(\"Number of overall rows of Black or African American people in the cleaned dataset:\")\n",
    "print(df_cleaned_black.shape[0])\n",
    "print(\"Number of overall columns of Black or African American people in the cleaned dataset:\")\n",
    "print(df_cleaned_black.shape[1])"
   ]
  },
  {
   "cell_type": "code",
   "execution_count": null,
   "id": "a1ba540f-bad3-4ec2-91b4-8b9f84911d14",
   "metadata": {},
   "outputs": [
    {
     "name": "stdout",
     "output_type": "stream",
     "text": [
      "Number of overall rows of Male in the cleaned dataset:\n",
      "6644522\n",
      "Number of overall columns of Male in the cleaned dataset:\n",
      "30\n",
      "Number of overall rows of Female in the cleaned dataset:\n",
      "3149180\n",
      "Number of overall columns of Female in the cleaned dataset:\n",
      "30\n"
     ]
    }
   ],
   "source": [
    "# sensitive attribute 2: Gender\n",
    "\n",
    "# Gender: Male\n",
    "df_cleaned_male= df_cleaned.loc[df_cleaned['applicant_sex'] == 1]\n",
    "\n",
    "print(\"Number of overall rows of Male in the cleaned dataset:\")\n",
    "print(df_cleaned_male.shape[0])\n",
    "print(\"Number of overall columns of Male in the cleaned dataset:\")\n",
    "print(df_cleaned_male.shape[1])\n",
    "\n",
    "# Gender: Female\n",
    "df_cleaned_female = df_cleaned.loc[df_cleaned['applicant_sex'] == 2]\n",
    "\n",
    "print(\"Number of overall rows of Female in the cleaned dataset:\")\n",
    "print(df_cleaned_female.shape[0])\n",
    "print(\"Number of overall columns of Female in the cleaned dataset:\")\n",
    "print(df_cleaned_female.shape[1])"
   ]
  },
  {
   "cell_type": "code",
   "execution_count": null,
   "id": "9b032de8-274b-4715-a792-5fa8ce72f79d",
   "metadata": {},
   "outputs": [
    {
     "name": "stdout",
     "output_type": "stream",
     "text": [
      "The mean / median / standard deviation values of variables of interests of overall group:\n"
     ]
    },
    {
     "data": {
      "text/html": [
       "<div>\n",
       "<style scoped>\n",
       "    .dataframe tbody tr th:only-of-type {\n",
       "        vertical-align: middle;\n",
       "    }\n",
       "\n",
       "    .dataframe tbody tr th {\n",
       "        vertical-align: top;\n",
       "    }\n",
       "\n",
       "    .dataframe thead th {\n",
       "        text-align: right;\n",
       "    }\n",
       "</style>\n",
       "<table border=\"1\" class=\"dataframe\">\n",
       "  <thead>\n",
       "    <tr style=\"text-align: right;\">\n",
       "      <th></th>\n",
       "      <th>action_taken</th>\n",
       "    </tr>\n",
       "  </thead>\n",
       "  <tbody>\n",
       "    <tr>\n",
       "      <th>count</th>\n",
       "      <td>9.793702e+06</td>\n",
       "    </tr>\n",
       "    <tr>\n",
       "      <th>mean</th>\n",
       "      <td>2.205999e+00</td>\n",
       "    </tr>\n",
       "    <tr>\n",
       "      <th>std</th>\n",
       "      <td>1.623058e+00</td>\n",
       "    </tr>\n",
       "    <tr>\n",
       "      <th>min</th>\n",
       "      <td>1.000000e+00</td>\n",
       "    </tr>\n",
       "    <tr>\n",
       "      <th>25%</th>\n",
       "      <td>1.000000e+00</td>\n",
       "    </tr>\n",
       "    <tr>\n",
       "      <th>50%</th>\n",
       "      <td>1.000000e+00</td>\n",
       "    </tr>\n",
       "    <tr>\n",
       "      <th>75%</th>\n",
       "      <td>3.000000e+00</td>\n",
       "    </tr>\n",
       "    <tr>\n",
       "      <th>max</th>\n",
       "      <td>8.000000e+00</td>\n",
       "    </tr>\n",
       "  </tbody>\n",
       "</table>\n",
       "</div>"
      ],
      "text/plain": [
       "       action_taken\n",
       "count  9.793702e+06\n",
       "mean   2.205999e+00\n",
       "std    1.623058e+00\n",
       "min    1.000000e+00\n",
       "25%    1.000000e+00\n",
       "50%    1.000000e+00\n",
       "75%    3.000000e+00\n",
       "max    8.000000e+00"
      ]
     },
     "execution_count": 133,
     "metadata": {},
     "output_type": "execute_result"
    }
   ],
   "source": [
    "# Outcome variables of Main Interests\n",
    "print('The mean / median / standard deviation values of variables of interests of overall group:')\n",
    "df_cleaned[['action_taken']].describe()"
   ]
  },
  {
   "cell_type": "code",
   "execution_count": null,
   "id": "a490fcea-0bf3-43a5-8849-a791545f15c5",
   "metadata": {},
   "outputs": [
    {
     "name": "stdout",
     "output_type": "stream",
     "text": [
      "The mean / median / standard deviation values of variables of interests of Non-black people:\n"
     ]
    },
    {
     "data": {
      "text/html": [
       "<div>\n",
       "<style scoped>\n",
       "    .dataframe tbody tr th:only-of-type {\n",
       "        vertical-align: middle;\n",
       "    }\n",
       "\n",
       "    .dataframe tbody tr th {\n",
       "        vertical-align: top;\n",
       "    }\n",
       "\n",
       "    .dataframe thead th {\n",
       "        text-align: right;\n",
       "    }\n",
       "</style>\n",
       "<table border=\"1\" class=\"dataframe\">\n",
       "  <thead>\n",
       "    <tr style=\"text-align: right;\">\n",
       "      <th></th>\n",
       "      <th>action_taken</th>\n",
       "    </tr>\n",
       "  </thead>\n",
       "  <tbody>\n",
       "    <tr>\n",
       "      <th>count</th>\n",
       "      <td>8.971510e+06</td>\n",
       "    </tr>\n",
       "    <tr>\n",
       "      <th>mean</th>\n",
       "      <td>2.189708e+00</td>\n",
       "    </tr>\n",
       "    <tr>\n",
       "      <th>std</th>\n",
       "      <td>1.631109e+00</td>\n",
       "    </tr>\n",
       "    <tr>\n",
       "      <th>min</th>\n",
       "      <td>1.000000e+00</td>\n",
       "    </tr>\n",
       "    <tr>\n",
       "      <th>25%</th>\n",
       "      <td>1.000000e+00</td>\n",
       "    </tr>\n",
       "    <tr>\n",
       "      <th>50%</th>\n",
       "      <td>1.000000e+00</td>\n",
       "    </tr>\n",
       "    <tr>\n",
       "      <th>75%</th>\n",
       "      <td>3.000000e+00</td>\n",
       "    </tr>\n",
       "    <tr>\n",
       "      <th>max</th>\n",
       "      <td>8.000000e+00</td>\n",
       "    </tr>\n",
       "  </tbody>\n",
       "</table>\n",
       "</div>"
      ],
      "text/plain": [
       "       action_taken\n",
       "count  8.971510e+06\n",
       "mean   2.189708e+00\n",
       "std    1.631109e+00\n",
       "min    1.000000e+00\n",
       "25%    1.000000e+00\n",
       "50%    1.000000e+00\n",
       "75%    3.000000e+00\n",
       "max    8.000000e+00"
      ]
     },
     "execution_count": 134,
     "metadata": {},
     "output_type": "execute_result"
    }
   ],
   "source": [
    "# sensitive attribute 1: Race - Non-black\n",
    "\n",
    "print('The mean / median / standard deviation values of variables of interests of Non-black people:')\n",
    "df_cleaned_non_black[['action_taken']].describe()"
   ]
  },
  {
   "cell_type": "code",
   "execution_count": null,
   "id": "b3c32b8e-62be-4d04-b8ca-5869c2152af3",
   "metadata": {},
   "outputs": [
    {
     "name": "stdout",
     "output_type": "stream",
     "text": [
      "The mean / median / standard deviation values of variables of interests of Black people:\n"
     ]
    },
    {
     "data": {
      "text/html": [
       "<div>\n",
       "<style scoped>\n",
       "    .dataframe tbody tr th:only-of-type {\n",
       "        vertical-align: middle;\n",
       "    }\n",
       "\n",
       "    .dataframe tbody tr th {\n",
       "        vertical-align: top;\n",
       "    }\n",
       "\n",
       "    .dataframe thead th {\n",
       "        text-align: right;\n",
       "    }\n",
       "</style>\n",
       "<table border=\"1\" class=\"dataframe\">\n",
       "  <thead>\n",
       "    <tr style=\"text-align: right;\">\n",
       "      <th></th>\n",
       "      <th>action_taken</th>\n",
       "    </tr>\n",
       "  </thead>\n",
       "  <tbody>\n",
       "    <tr>\n",
       "      <th>count</th>\n",
       "      <td>822192.000000</td>\n",
       "    </tr>\n",
       "    <tr>\n",
       "      <th>mean</th>\n",
       "      <td>2.383766</td>\n",
       "    </tr>\n",
       "    <tr>\n",
       "      <th>std</th>\n",
       "      <td>1.521168</td>\n",
       "    </tr>\n",
       "    <tr>\n",
       "      <th>min</th>\n",
       "      <td>1.000000</td>\n",
       "    </tr>\n",
       "    <tr>\n",
       "      <th>25%</th>\n",
       "      <td>1.000000</td>\n",
       "    </tr>\n",
       "    <tr>\n",
       "      <th>50%</th>\n",
       "      <td>2.000000</td>\n",
       "    </tr>\n",
       "    <tr>\n",
       "      <th>75%</th>\n",
       "      <td>3.000000</td>\n",
       "    </tr>\n",
       "    <tr>\n",
       "      <th>max</th>\n",
       "      <td>8.000000</td>\n",
       "    </tr>\n",
       "  </tbody>\n",
       "</table>\n",
       "</div>"
      ],
      "text/plain": [
       "        action_taken\n",
       "count  822192.000000\n",
       "mean        2.383766\n",
       "std         1.521168\n",
       "min         1.000000\n",
       "25%         1.000000\n",
       "50%         2.000000\n",
       "75%         3.000000\n",
       "max         8.000000"
      ]
     },
     "execution_count": 135,
     "metadata": {},
     "output_type": "execute_result"
    }
   ],
   "source": [
    "# sensitive attribute 1: Race - Black\n",
    "\n",
    "print('The mean / median / standard deviation values of variables of interests of Black people:')\n",
    "df_cleaned_black[['action_taken']].describe()"
   ]
  },
  {
   "cell_type": "code",
   "execution_count": null,
   "id": "79ab9ca4-779f-487e-93b6-14ab3e4184fb",
   "metadata": {},
   "outputs": [
    {
     "name": "stdout",
     "output_type": "stream",
     "text": [
      "The mean / median / standard deviation values of variables of interests of Male:\n"
     ]
    },
    {
     "data": {
      "text/html": [
       "<div>\n",
       "<style scoped>\n",
       "    .dataframe tbody tr th:only-of-type {\n",
       "        vertical-align: middle;\n",
       "    }\n",
       "\n",
       "    .dataframe tbody tr th {\n",
       "        vertical-align: top;\n",
       "    }\n",
       "\n",
       "    .dataframe thead th {\n",
       "        text-align: right;\n",
       "    }\n",
       "</style>\n",
       "<table border=\"1\" class=\"dataframe\">\n",
       "  <thead>\n",
       "    <tr style=\"text-align: right;\">\n",
       "      <th></th>\n",
       "      <th>action_taken</th>\n",
       "    </tr>\n",
       "  </thead>\n",
       "  <tbody>\n",
       "    <tr>\n",
       "      <th>count</th>\n",
       "      <td>6.644522e+06</td>\n",
       "    </tr>\n",
       "    <tr>\n",
       "      <th>mean</th>\n",
       "      <td>2.199313e+00</td>\n",
       "    </tr>\n",
       "    <tr>\n",
       "      <th>std</th>\n",
       "      <td>1.631647e+00</td>\n",
       "    </tr>\n",
       "    <tr>\n",
       "      <th>min</th>\n",
       "      <td>1.000000e+00</td>\n",
       "    </tr>\n",
       "    <tr>\n",
       "      <th>25%</th>\n",
       "      <td>1.000000e+00</td>\n",
       "    </tr>\n",
       "    <tr>\n",
       "      <th>50%</th>\n",
       "      <td>1.000000e+00</td>\n",
       "    </tr>\n",
       "    <tr>\n",
       "      <th>75%</th>\n",
       "      <td>3.000000e+00</td>\n",
       "    </tr>\n",
       "    <tr>\n",
       "      <th>max</th>\n",
       "      <td>8.000000e+00</td>\n",
       "    </tr>\n",
       "  </tbody>\n",
       "</table>\n",
       "</div>"
      ],
      "text/plain": [
       "       action_taken\n",
       "count  6.644522e+06\n",
       "mean   2.199313e+00\n",
       "std    1.631647e+00\n",
       "min    1.000000e+00\n",
       "25%    1.000000e+00\n",
       "50%    1.000000e+00\n",
       "75%    3.000000e+00\n",
       "max    8.000000e+00"
      ]
     },
     "execution_count": 136,
     "metadata": {},
     "output_type": "execute_result"
    }
   ],
   "source": [
    "# sensitive attribute 2: Gender - Male\n",
    "\n",
    "print('The mean / median / standard deviation values of variables of interests of Male:')\n",
    "df_cleaned_male[['action_taken']].describe()"
   ]
  },
  {
   "cell_type": "code",
   "execution_count": null,
   "id": "a3e198a4-fe61-476c-ac47-b14cc065b39a",
   "metadata": {},
   "outputs": [
    {
     "name": "stdout",
     "output_type": "stream",
     "text": [
      "The mean / median / standard deviation values of variables of interests of Female:\n"
     ]
    },
    {
     "data": {
      "text/html": [
       "<div>\n",
       "<style scoped>\n",
       "    .dataframe tbody tr th:only-of-type {\n",
       "        vertical-align: middle;\n",
       "    }\n",
       "\n",
       "    .dataframe tbody tr th {\n",
       "        vertical-align: top;\n",
       "    }\n",
       "\n",
       "    .dataframe thead th {\n",
       "        text-align: right;\n",
       "    }\n",
       "</style>\n",
       "<table border=\"1\" class=\"dataframe\">\n",
       "  <thead>\n",
       "    <tr style=\"text-align: right;\">\n",
       "      <th></th>\n",
       "      <th>action_taken</th>\n",
       "    </tr>\n",
       "  </thead>\n",
       "  <tbody>\n",
       "    <tr>\n",
       "      <th>count</th>\n",
       "      <td>3.149180e+06</td>\n",
       "    </tr>\n",
       "    <tr>\n",
       "      <th>mean</th>\n",
       "      <td>2.220105e+00</td>\n",
       "    </tr>\n",
       "    <tr>\n",
       "      <th>std</th>\n",
       "      <td>1.604695e+00</td>\n",
       "    </tr>\n",
       "    <tr>\n",
       "      <th>min</th>\n",
       "      <td>1.000000e+00</td>\n",
       "    </tr>\n",
       "    <tr>\n",
       "      <th>25%</th>\n",
       "      <td>1.000000e+00</td>\n",
       "    </tr>\n",
       "    <tr>\n",
       "      <th>50%</th>\n",
       "      <td>1.000000e+00</td>\n",
       "    </tr>\n",
       "    <tr>\n",
       "      <th>75%</th>\n",
       "      <td>3.000000e+00</td>\n",
       "    </tr>\n",
       "    <tr>\n",
       "      <th>max</th>\n",
       "      <td>8.000000e+00</td>\n",
       "    </tr>\n",
       "  </tbody>\n",
       "</table>\n",
       "</div>"
      ],
      "text/plain": [
       "       action_taken\n",
       "count  3.149180e+06\n",
       "mean   2.220105e+00\n",
       "std    1.604695e+00\n",
       "min    1.000000e+00\n",
       "25%    1.000000e+00\n",
       "50%    1.000000e+00\n",
       "75%    3.000000e+00\n",
       "max    8.000000e+00"
      ]
     },
     "execution_count": 137,
     "metadata": {},
     "output_type": "execute_result"
    }
   ],
   "source": [
    "# sensitive attribute 2: Gender - Female\n",
    "\n",
    "print('The mean / median / standard deviation values of variables of interests of Female:')\n",
    "df_cleaned_female[['action_taken']].describe()"
   ]
  },
  {
   "cell_type": "code",
   "execution_count": null,
   "id": "632b973d-c2a8-4da5-83a1-103414cdfe21",
   "metadata": {},
   "outputs": [
    {
     "name": "stdout",
     "output_type": "stream",
     "text": [
      "The mean / median / standard deviation values of variables of interests of overall group:\n"
     ]
    },
    {
     "data": {
      "text/html": [
       "<div>\n",
       "<style scoped>\n",
       "    .dataframe tbody tr th:only-of-type {\n",
       "        vertical-align: middle;\n",
       "    }\n",
       "\n",
       "    .dataframe tbody tr th {\n",
       "        vertical-align: top;\n",
       "    }\n",
       "\n",
       "    .dataframe thead th {\n",
       "        text-align: right;\n",
       "    }\n",
       "</style>\n",
       "<table border=\"1\" class=\"dataframe\">\n",
       "  <thead>\n",
       "    <tr style=\"text-align: right;\">\n",
       "      <th></th>\n",
       "      <th>preapproval</th>\n",
       "      <th>loan_purpose</th>\n",
       "      <th>loan_type</th>\n",
       "      <th>hoepa_status</th>\n",
       "      <th>loan_amount_000s</th>\n",
       "    </tr>\n",
       "  </thead>\n",
       "  <tbody>\n",
       "    <tr>\n",
       "      <th>count</th>\n",
       "      <td>9.793702e+06</td>\n",
       "      <td>9.793702e+06</td>\n",
       "      <td>9.793702e+06</td>\n",
       "      <td>9.793702e+06</td>\n",
       "      <td>9.793702e+06</td>\n",
       "    </tr>\n",
       "    <tr>\n",
       "      <th>mean</th>\n",
       "      <td>2.779028e+00</td>\n",
       "      <td>1.839091e+00</td>\n",
       "      <td>1.362479e+00</td>\n",
       "      <td>1.999747e+00</td>\n",
       "      <td>2.420835e+02</td>\n",
       "    </tr>\n",
       "    <tr>\n",
       "      <th>std</th>\n",
       "      <td>4.764173e-01</td>\n",
       "      <td>9.437731e-01</td>\n",
       "      <td>6.841698e-01</td>\n",
       "      <td>1.590779e-02</td>\n",
       "      <td>5.762923e+02</td>\n",
       "    </tr>\n",
       "    <tr>\n",
       "      <th>min</th>\n",
       "      <td>1.000000e+00</td>\n",
       "      <td>1.000000e+00</td>\n",
       "      <td>1.000000e+00</td>\n",
       "      <td>1.000000e+00</td>\n",
       "      <td>1.000000e+00</td>\n",
       "    </tr>\n",
       "    <tr>\n",
       "      <th>25%</th>\n",
       "      <td>3.000000e+00</td>\n",
       "      <td>1.000000e+00</td>\n",
       "      <td>1.000000e+00</td>\n",
       "      <td>2.000000e+00</td>\n",
       "      <td>1.200000e+02</td>\n",
       "    </tr>\n",
       "    <tr>\n",
       "      <th>50%</th>\n",
       "      <td>3.000000e+00</td>\n",
       "      <td>1.000000e+00</td>\n",
       "      <td>1.000000e+00</td>\n",
       "      <td>2.000000e+00</td>\n",
       "      <td>1.960000e+02</td>\n",
       "    </tr>\n",
       "    <tr>\n",
       "      <th>75%</th>\n",
       "      <td>3.000000e+00</td>\n",
       "      <td>3.000000e+00</td>\n",
       "      <td>2.000000e+00</td>\n",
       "      <td>2.000000e+00</td>\n",
       "      <td>3.030000e+02</td>\n",
       "    </tr>\n",
       "    <tr>\n",
       "      <th>max</th>\n",
       "      <td>3.000000e+00</td>\n",
       "      <td>3.000000e+00</td>\n",
       "      <td>4.000000e+00</td>\n",
       "      <td>2.000000e+00</td>\n",
       "      <td>4.040000e+05</td>\n",
       "    </tr>\n",
       "  </tbody>\n",
       "</table>\n",
       "</div>"
      ],
      "text/plain": [
       "        preapproval  loan_purpose     loan_type  hoepa_status  \\\n",
       "count  9.793702e+06  9.793702e+06  9.793702e+06  9.793702e+06   \n",
       "mean   2.779028e+00  1.839091e+00  1.362479e+00  1.999747e+00   \n",
       "std    4.764173e-01  9.437731e-01  6.841698e-01  1.590779e-02   \n",
       "min    1.000000e+00  1.000000e+00  1.000000e+00  1.000000e+00   \n",
       "25%    3.000000e+00  1.000000e+00  1.000000e+00  2.000000e+00   \n",
       "50%    3.000000e+00  1.000000e+00  1.000000e+00  2.000000e+00   \n",
       "75%    3.000000e+00  3.000000e+00  2.000000e+00  2.000000e+00   \n",
       "max    3.000000e+00  3.000000e+00  4.000000e+00  2.000000e+00   \n",
       "\n",
       "       loan_amount_000s  \n",
       "count      9.793702e+06  \n",
       "mean       2.420835e+02  \n",
       "std        5.762923e+02  \n",
       "min        1.000000e+00  \n",
       "25%        1.200000e+02  \n",
       "50%        1.960000e+02  \n",
       "75%        3.030000e+02  \n",
       "max        4.040000e+05  "
      ]
     },
     "execution_count": 138,
     "metadata": {},
     "output_type": "execute_result"
    }
   ],
   "source": [
    "# Other outcome variables of Interests\n",
    "print('The mean / median / standard deviation values of variables of interests of overall group:')\n",
    "df_cleaned[['preapproval', 'loan_purpose', 'loan_type', 'hoepa_status', 'loan_amount_000s']].describe()"
   ]
  },
  {
   "cell_type": "code",
   "execution_count": null,
   "id": "205fc245-6f23-47db-b8c7-af35e2fd44aa",
   "metadata": {},
   "outputs": [
    {
     "name": "stdout",
     "output_type": "stream",
     "text": [
      "The mean / median / standard deviation values of variables of interests of Non-black people:\n"
     ]
    },
    {
     "data": {
      "text/html": [
       "<div>\n",
       "<style scoped>\n",
       "    .dataframe tbody tr th:only-of-type {\n",
       "        vertical-align: middle;\n",
       "    }\n",
       "\n",
       "    .dataframe tbody tr th {\n",
       "        vertical-align: top;\n",
       "    }\n",
       "\n",
       "    .dataframe thead th {\n",
       "        text-align: right;\n",
       "    }\n",
       "</style>\n",
       "<table border=\"1\" class=\"dataframe\">\n",
       "  <thead>\n",
       "    <tr style=\"text-align: right;\">\n",
       "      <th></th>\n",
       "      <th>preapproval</th>\n",
       "      <th>loan_purpose</th>\n",
       "      <th>loan_type</th>\n",
       "      <th>hoepa_status</th>\n",
       "      <th>loan_amount_000s</th>\n",
       "    </tr>\n",
       "  </thead>\n",
       "  <tbody>\n",
       "    <tr>\n",
       "      <th>count</th>\n",
       "      <td>8.971510e+06</td>\n",
       "      <td>8.971510e+06</td>\n",
       "      <td>8.971510e+06</td>\n",
       "      <td>8.971510e+06</td>\n",
       "      <td>8.971510e+06</td>\n",
       "    </tr>\n",
       "    <tr>\n",
       "      <th>mean</th>\n",
       "      <td>2.780272e+00</td>\n",
       "      <td>1.837060e+00</td>\n",
       "      <td>1.340209e+00</td>\n",
       "      <td>1.999754e+00</td>\n",
       "      <td>2.462406e+02</td>\n",
       "    </tr>\n",
       "    <tr>\n",
       "      <th>std</th>\n",
       "      <td>4.754478e-01</td>\n",
       "      <td>9.446531e-01</td>\n",
       "      <td>6.718462e-01</td>\n",
       "      <td>1.569669e-02</td>\n",
       "      <td>4.613608e+02</td>\n",
       "    </tr>\n",
       "    <tr>\n",
       "      <th>min</th>\n",
       "      <td>1.000000e+00</td>\n",
       "      <td>1.000000e+00</td>\n",
       "      <td>1.000000e+00</td>\n",
       "      <td>1.000000e+00</td>\n",
       "      <td>1.000000e+00</td>\n",
       "    </tr>\n",
       "    <tr>\n",
       "      <th>25%</th>\n",
       "      <td>3.000000e+00</td>\n",
       "      <td>1.000000e+00</td>\n",
       "      <td>1.000000e+00</td>\n",
       "      <td>2.000000e+00</td>\n",
       "      <td>1.220000e+02</td>\n",
       "    </tr>\n",
       "    <tr>\n",
       "      <th>50%</th>\n",
       "      <td>3.000000e+00</td>\n",
       "      <td>1.000000e+00</td>\n",
       "      <td>1.000000e+00</td>\n",
       "      <td>2.000000e+00</td>\n",
       "      <td>2.000000e+02</td>\n",
       "    </tr>\n",
       "    <tr>\n",
       "      <th>75%</th>\n",
       "      <td>3.000000e+00</td>\n",
       "      <td>3.000000e+00</td>\n",
       "      <td>1.000000e+00</td>\n",
       "      <td>2.000000e+00</td>\n",
       "      <td>3.080000e+02</td>\n",
       "    </tr>\n",
       "    <tr>\n",
       "      <th>max</th>\n",
       "      <td>3.000000e+00</td>\n",
       "      <td>3.000000e+00</td>\n",
       "      <td>4.000000e+00</td>\n",
       "      <td>2.000000e+00</td>\n",
       "      <td>4.040000e+05</td>\n",
       "    </tr>\n",
       "  </tbody>\n",
       "</table>\n",
       "</div>"
      ],
      "text/plain": [
       "        preapproval  loan_purpose     loan_type  hoepa_status  \\\n",
       "count  8.971510e+06  8.971510e+06  8.971510e+06  8.971510e+06   \n",
       "mean   2.780272e+00  1.837060e+00  1.340209e+00  1.999754e+00   \n",
       "std    4.754478e-01  9.446531e-01  6.718462e-01  1.569669e-02   \n",
       "min    1.000000e+00  1.000000e+00  1.000000e+00  1.000000e+00   \n",
       "25%    3.000000e+00  1.000000e+00  1.000000e+00  2.000000e+00   \n",
       "50%    3.000000e+00  1.000000e+00  1.000000e+00  2.000000e+00   \n",
       "75%    3.000000e+00  3.000000e+00  1.000000e+00  2.000000e+00   \n",
       "max    3.000000e+00  3.000000e+00  4.000000e+00  2.000000e+00   \n",
       "\n",
       "       loan_amount_000s  \n",
       "count      8.971510e+06  \n",
       "mean       2.462406e+02  \n",
       "std        4.613608e+02  \n",
       "min        1.000000e+00  \n",
       "25%        1.220000e+02  \n",
       "50%        2.000000e+02  \n",
       "75%        3.080000e+02  \n",
       "max        4.040000e+05  "
      ]
     },
     "execution_count": 139,
     "metadata": {},
     "output_type": "execute_result"
    }
   ],
   "source": [
    "# sensitive attribute 1: Race - Non-black\n",
    "\n",
    "print('The mean / median / standard deviation values of variables of interests of Non-black people:')\n",
    "df_cleaned_non_black[['preapproval', 'loan_purpose', 'loan_type', 'hoepa_status', 'loan_amount_000s']].describe()"
   ]
  },
  {
   "cell_type": "code",
   "execution_count": null,
   "id": "d8fb5ea8-d706-46f9-9282-5e382b581f6e",
   "metadata": {},
   "outputs": [
    {
     "name": "stdout",
     "output_type": "stream",
     "text": [
      "The mean / median / standard deviation values of variables of interests of Black people:\n"
     ]
    },
    {
     "data": {
      "text/html": [
       "<div>\n",
       "<style scoped>\n",
       "    .dataframe tbody tr th:only-of-type {\n",
       "        vertical-align: middle;\n",
       "    }\n",
       "\n",
       "    .dataframe tbody tr th {\n",
       "        vertical-align: top;\n",
       "    }\n",
       "\n",
       "    .dataframe thead th {\n",
       "        text-align: right;\n",
       "    }\n",
       "</style>\n",
       "<table border=\"1\" class=\"dataframe\">\n",
       "  <thead>\n",
       "    <tr style=\"text-align: right;\">\n",
       "      <th></th>\n",
       "      <th>preapproval</th>\n",
       "      <th>loan_purpose</th>\n",
       "      <th>loan_type</th>\n",
       "      <th>hoepa_status</th>\n",
       "      <th>loan_amount_000s</th>\n",
       "    </tr>\n",
       "  </thead>\n",
       "  <tbody>\n",
       "    <tr>\n",
       "      <th>count</th>\n",
       "      <td>822192.000000</td>\n",
       "      <td>822192.000000</td>\n",
       "      <td>822192.000000</td>\n",
       "      <td>822192.000000</td>\n",
       "      <td>822192.000000</td>\n",
       "    </tr>\n",
       "    <tr>\n",
       "      <th>mean</th>\n",
       "      <td>2.765454</td>\n",
       "      <td>1.861259</td>\n",
       "      <td>1.605480</td>\n",
       "      <td>1.999674</td>\n",
       "      <td>196.722055</td>\n",
       "    </tr>\n",
       "    <tr>\n",
       "      <th>std</th>\n",
       "      <td>0.486665</td>\n",
       "      <td>0.933831</td>\n",
       "      <td>0.765489</td>\n",
       "      <td>0.018051</td>\n",
       "      <td>1277.179172</td>\n",
       "    </tr>\n",
       "    <tr>\n",
       "      <th>min</th>\n",
       "      <td>1.000000</td>\n",
       "      <td>1.000000</td>\n",
       "      <td>1.000000</td>\n",
       "      <td>1.000000</td>\n",
       "      <td>1.000000</td>\n",
       "    </tr>\n",
       "    <tr>\n",
       "      <th>25%</th>\n",
       "      <td>3.000000</td>\n",
       "      <td>1.000000</td>\n",
       "      <td>1.000000</td>\n",
       "      <td>2.000000</td>\n",
       "      <td>93.000000</td>\n",
       "    </tr>\n",
       "    <tr>\n",
       "      <th>50%</th>\n",
       "      <td>3.000000</td>\n",
       "      <td>1.000000</td>\n",
       "      <td>1.000000</td>\n",
       "      <td>2.000000</td>\n",
       "      <td>164.000000</td>\n",
       "    </tr>\n",
       "    <tr>\n",
       "      <th>75%</th>\n",
       "      <td>3.000000</td>\n",
       "      <td>3.000000</td>\n",
       "      <td>2.000000</td>\n",
       "      <td>2.000000</td>\n",
       "      <td>255.000000</td>\n",
       "    </tr>\n",
       "    <tr>\n",
       "      <th>max</th>\n",
       "      <td>3.000000</td>\n",
       "      <td>3.000000</td>\n",
       "      <td>4.000000</td>\n",
       "      <td>2.000000</td>\n",
       "      <td>398000.000000</td>\n",
       "    </tr>\n",
       "  </tbody>\n",
       "</table>\n",
       "</div>"
      ],
      "text/plain": [
       "         preapproval   loan_purpose      loan_type   hoepa_status  \\\n",
       "count  822192.000000  822192.000000  822192.000000  822192.000000   \n",
       "mean        2.765454       1.861259       1.605480       1.999674   \n",
       "std         0.486665       0.933831       0.765489       0.018051   \n",
       "min         1.000000       1.000000       1.000000       1.000000   \n",
       "25%         3.000000       1.000000       1.000000       2.000000   \n",
       "50%         3.000000       1.000000       1.000000       2.000000   \n",
       "75%         3.000000       3.000000       2.000000       2.000000   \n",
       "max         3.000000       3.000000       4.000000       2.000000   \n",
       "\n",
       "       loan_amount_000s  \n",
       "count     822192.000000  \n",
       "mean         196.722055  \n",
       "std         1277.179172  \n",
       "min            1.000000  \n",
       "25%           93.000000  \n",
       "50%          164.000000  \n",
       "75%          255.000000  \n",
       "max       398000.000000  "
      ]
     },
     "execution_count": 140,
     "metadata": {},
     "output_type": "execute_result"
    }
   ],
   "source": [
    "# sensitive attribute 1: Race - Black\n",
    "\n",
    "print('The mean / median / standard deviation values of variables of interests of Black people:')\n",
    "df_cleaned_black[['preapproval', 'loan_purpose', 'loan_type', 'hoepa_status', 'loan_amount_000s']].describe()"
   ]
  },
  {
   "cell_type": "code",
   "execution_count": null,
   "id": "d495f09a-f24b-4b3c-9761-24930f2ac17b",
   "metadata": {},
   "outputs": [
    {
     "name": "stdout",
     "output_type": "stream",
     "text": [
      "The mean / median / standard deviation values of variables of interests of Male:\n"
     ]
    },
    {
     "data": {
      "text/html": [
       "<div>\n",
       "<style scoped>\n",
       "    .dataframe tbody tr th:only-of-type {\n",
       "        vertical-align: middle;\n",
       "    }\n",
       "\n",
       "    .dataframe tbody tr th {\n",
       "        vertical-align: top;\n",
       "    }\n",
       "\n",
       "    .dataframe thead th {\n",
       "        text-align: right;\n",
       "    }\n",
       "</style>\n",
       "<table border=\"1\" class=\"dataframe\">\n",
       "  <thead>\n",
       "    <tr style=\"text-align: right;\">\n",
       "      <th></th>\n",
       "      <th>preapproval</th>\n",
       "      <th>loan_purpose</th>\n",
       "      <th>loan_type</th>\n",
       "      <th>hoepa_status</th>\n",
       "      <th>loan_amount_000s</th>\n",
       "    </tr>\n",
       "  </thead>\n",
       "  <tbody>\n",
       "    <tr>\n",
       "      <th>count</th>\n",
       "      <td>6.644522e+06</td>\n",
       "      <td>6.644522e+06</td>\n",
       "      <td>6.644522e+06</td>\n",
       "      <td>6.644522e+06</td>\n",
       "      <td>6.644522e+06</td>\n",
       "    </tr>\n",
       "    <tr>\n",
       "      <th>mean</th>\n",
       "      <td>2.779527e+00</td>\n",
       "      <td>1.839506e+00</td>\n",
       "      <td>1.393524e+00</td>\n",
       "      <td>1.999761e+00</td>\n",
       "      <td>2.582581e+02</td>\n",
       "    </tr>\n",
       "    <tr>\n",
       "      <th>std</th>\n",
       "      <td>4.760381e-01</td>\n",
       "      <td>9.467813e-01</td>\n",
       "      <td>7.224162e-01</td>\n",
       "      <td>1.545758e-02</td>\n",
       "      <td>4.950104e+02</td>\n",
       "    </tr>\n",
       "    <tr>\n",
       "      <th>min</th>\n",
       "      <td>1.000000e+00</td>\n",
       "      <td>1.000000e+00</td>\n",
       "      <td>1.000000e+00</td>\n",
       "      <td>1.000000e+00</td>\n",
       "      <td>1.000000e+00</td>\n",
       "    </tr>\n",
       "    <tr>\n",
       "      <th>25%</th>\n",
       "      <td>3.000000e+00</td>\n",
       "      <td>1.000000e+00</td>\n",
       "      <td>1.000000e+00</td>\n",
       "      <td>2.000000e+00</td>\n",
       "      <td>1.290000e+02</td>\n",
       "    </tr>\n",
       "    <tr>\n",
       "      <th>50%</th>\n",
       "      <td>3.000000e+00</td>\n",
       "      <td>1.000000e+00</td>\n",
       "      <td>1.000000e+00</td>\n",
       "      <td>2.000000e+00</td>\n",
       "      <td>2.080000e+02</td>\n",
       "    </tr>\n",
       "    <tr>\n",
       "      <th>75%</th>\n",
       "      <td>3.000000e+00</td>\n",
       "      <td>3.000000e+00</td>\n",
       "      <td>2.000000e+00</td>\n",
       "      <td>2.000000e+00</td>\n",
       "      <td>3.220000e+02</td>\n",
       "    </tr>\n",
       "    <tr>\n",
       "      <th>max</th>\n",
       "      <td>3.000000e+00</td>\n",
       "      <td>3.000000e+00</td>\n",
       "      <td>4.000000e+00</td>\n",
       "      <td>2.000000e+00</td>\n",
       "      <td>3.980000e+05</td>\n",
       "    </tr>\n",
       "  </tbody>\n",
       "</table>\n",
       "</div>"
      ],
      "text/plain": [
       "        preapproval  loan_purpose     loan_type  hoepa_status  \\\n",
       "count  6.644522e+06  6.644522e+06  6.644522e+06  6.644522e+06   \n",
       "mean   2.779527e+00  1.839506e+00  1.393524e+00  1.999761e+00   \n",
       "std    4.760381e-01  9.467813e-01  7.224162e-01  1.545758e-02   \n",
       "min    1.000000e+00  1.000000e+00  1.000000e+00  1.000000e+00   \n",
       "25%    3.000000e+00  1.000000e+00  1.000000e+00  2.000000e+00   \n",
       "50%    3.000000e+00  1.000000e+00  1.000000e+00  2.000000e+00   \n",
       "75%    3.000000e+00  3.000000e+00  2.000000e+00  2.000000e+00   \n",
       "max    3.000000e+00  3.000000e+00  4.000000e+00  2.000000e+00   \n",
       "\n",
       "       loan_amount_000s  \n",
       "count      6.644522e+06  \n",
       "mean       2.582581e+02  \n",
       "std        4.950104e+02  \n",
       "min        1.000000e+00  \n",
       "25%        1.290000e+02  \n",
       "50%        2.080000e+02  \n",
       "75%        3.220000e+02  \n",
       "max        3.980000e+05  "
      ]
     },
     "execution_count": 141,
     "metadata": {},
     "output_type": "execute_result"
    }
   ],
   "source": [
    "# sensitive attribute 2: Gender - Male\n",
    "\n",
    "print('The mean / median / standard deviation values of variables of interests of Male:')\n",
    "df_cleaned_male[['preapproval', 'loan_purpose', 'loan_type', 'hoepa_status', 'loan_amount_000s']].describe()"
   ]
  },
  {
   "cell_type": "code",
   "execution_count": null,
   "id": "59cc42be-d625-45be-977b-d85a1830bef1",
   "metadata": {},
   "outputs": [
    {
     "name": "stdout",
     "output_type": "stream",
     "text": [
      "The mean / median / standard deviation values of variables of interests of Female:\n"
     ]
    },
    {
     "data": {
      "text/html": [
       "<div>\n",
       "<style scoped>\n",
       "    .dataframe tbody tr th:only-of-type {\n",
       "        vertical-align: middle;\n",
       "    }\n",
       "\n",
       "    .dataframe tbody tr th {\n",
       "        vertical-align: top;\n",
       "    }\n",
       "\n",
       "    .dataframe thead th {\n",
       "        text-align: right;\n",
       "    }\n",
       "</style>\n",
       "<table border=\"1\" class=\"dataframe\">\n",
       "  <thead>\n",
       "    <tr style=\"text-align: right;\">\n",
       "      <th></th>\n",
       "      <th>preapproval</th>\n",
       "      <th>loan_purpose</th>\n",
       "      <th>loan_type</th>\n",
       "      <th>hoepa_status</th>\n",
       "      <th>loan_amount_000s</th>\n",
       "    </tr>\n",
       "  </thead>\n",
       "  <tbody>\n",
       "    <tr>\n",
       "      <th>count</th>\n",
       "      <td>3.149180e+06</td>\n",
       "      <td>3.149180e+06</td>\n",
       "      <td>3.149180e+06</td>\n",
       "      <td>3.149180e+06</td>\n",
       "      <td>3.149180e+06</td>\n",
       "    </tr>\n",
       "    <tr>\n",
       "      <th>mean</th>\n",
       "      <td>2.777975e+00</td>\n",
       "      <td>1.838217e+00</td>\n",
       "      <td>1.296977e+00</td>\n",
       "      <td>1.999717e+00</td>\n",
       "      <td>2.079562e+02</td>\n",
       "    </tr>\n",
       "    <tr>\n",
       "      <th>std</th>\n",
       "      <td>4.772148e-01</td>\n",
       "      <td>9.373939e-01</td>\n",
       "      <td>5.901333e-01</td>\n",
       "      <td>1.681817e-02</td>\n",
       "      <td>7.170236e+02</td>\n",
       "    </tr>\n",
       "    <tr>\n",
       "      <th>min</th>\n",
       "      <td>1.000000e+00</td>\n",
       "      <td>1.000000e+00</td>\n",
       "      <td>1.000000e+00</td>\n",
       "      <td>1.000000e+00</td>\n",
       "      <td>1.000000e+00</td>\n",
       "    </tr>\n",
       "    <tr>\n",
       "      <th>25%</th>\n",
       "      <td>3.000000e+00</td>\n",
       "      <td>1.000000e+00</td>\n",
       "      <td>1.000000e+00</td>\n",
       "      <td>2.000000e+00</td>\n",
       "      <td>1.030000e+02</td>\n",
       "    </tr>\n",
       "    <tr>\n",
       "      <th>50%</th>\n",
       "      <td>3.000000e+00</td>\n",
       "      <td>1.000000e+00</td>\n",
       "      <td>1.000000e+00</td>\n",
       "      <td>2.000000e+00</td>\n",
       "      <td>1.710000e+02</td>\n",
       "    </tr>\n",
       "    <tr>\n",
       "      <th>75%</th>\n",
       "      <td>3.000000e+00</td>\n",
       "      <td>3.000000e+00</td>\n",
       "      <td>1.000000e+00</td>\n",
       "      <td>2.000000e+00</td>\n",
       "      <td>2.660000e+02</td>\n",
       "    </tr>\n",
       "    <tr>\n",
       "      <th>max</th>\n",
       "      <td>3.000000e+00</td>\n",
       "      <td>3.000000e+00</td>\n",
       "      <td>4.000000e+00</td>\n",
       "      <td>2.000000e+00</td>\n",
       "      <td>4.040000e+05</td>\n",
       "    </tr>\n",
       "  </tbody>\n",
       "</table>\n",
       "</div>"
      ],
      "text/plain": [
       "        preapproval  loan_purpose     loan_type  hoepa_status  \\\n",
       "count  3.149180e+06  3.149180e+06  3.149180e+06  3.149180e+06   \n",
       "mean   2.777975e+00  1.838217e+00  1.296977e+00  1.999717e+00   \n",
       "std    4.772148e-01  9.373939e-01  5.901333e-01  1.681817e-02   \n",
       "min    1.000000e+00  1.000000e+00  1.000000e+00  1.000000e+00   \n",
       "25%    3.000000e+00  1.000000e+00  1.000000e+00  2.000000e+00   \n",
       "50%    3.000000e+00  1.000000e+00  1.000000e+00  2.000000e+00   \n",
       "75%    3.000000e+00  3.000000e+00  1.000000e+00  2.000000e+00   \n",
       "max    3.000000e+00  3.000000e+00  4.000000e+00  2.000000e+00   \n",
       "\n",
       "       loan_amount_000s  \n",
       "count      3.149180e+06  \n",
       "mean       2.079562e+02  \n",
       "std        7.170236e+02  \n",
       "min        1.000000e+00  \n",
       "25%        1.030000e+02  \n",
       "50%        1.710000e+02  \n",
       "75%        2.660000e+02  \n",
       "max        4.040000e+05  "
      ]
     },
     "execution_count": 142,
     "metadata": {},
     "output_type": "execute_result"
    }
   ],
   "source": [
    "# sensitive attribute 2: Gender - Female\n",
    "\n",
    "print('The mean / median / standard deviation values of variables of interests of Female:')\n",
    "df_cleaned_female[['preapproval', 'loan_purpose', 'loan_type', 'hoepa_status', 'loan_amount_000s']].describe()"
   ]
  },
  {
   "cell_type": "code",
   "execution_count": null,
   "id": "7cd9022d-305b-4232-bc69-879a7a63b85b",
   "metadata": {},
   "outputs": [],
   "source": [
    "import matplotlib.pyplot as plt\n",
    "\n",
    "race_data, action_taken_data, preapproval_data, loan_purpose_data, loan_type_data, hoepa_status_data, loan_amount_000s_data, co_race_data = df_cleaned['applicant_race_1'], df_cleaned['action_taken'], df_cleaned['preapproval'], df_cleaned['loan_purpose'], df_cleaned['loan_type'], df_cleaned['hoepa_status'], df_cleaned['loan_amount_000s'], df_cleaned['co_applicant_race_1'], "
   ]
  },
  {
   "cell_type": "code",
   "execution_count": null,
   "id": "d5e20c6f-4498-4ad8-8767-6b2948f3478f",
   "metadata": {},
   "outputs": [
    {
     "data": {
      "image/png": "[encoded data removed]",
      "text/plain": [
       "<Figure size 640x480 with 1 Axes>"
      ]
     },
     "metadata": {},
     "output_type": "display_data"
    }
   ],
   "source": [
    "# plot 1: Histogram of race distribution\n",
    "plt.title('plot 1: Histogram of race distribution')\n",
    "plt.xlabel('Race')\n",
    "plt.ylabel('Race Count')\n",
    "plt.hist(race_data, color='blue', bins = 30)\n",
    "plt.show()"
   ]
  },
  {
   "cell_type": "markdown",
   "id": "6e36e83e-5938-4139-8d79-2bfdb3ea8579",
   "metadata": {},
   "source": [
    "According to plot 1, there is a significantly large number of white people (5) applying mortgage in the dataset than all other races. The amount of native American (1: American Indian or Alaska Native, 4: Native Hawaiian or Other Pacific Islander) in the dataset is very small."
   ]
  },
  {
   "cell_type": "code",
   "execution_count": null,
   "id": "c7fa312f-c899-4b9c-8a72-bc736d61b93e",
   "metadata": {},
   "outputs": [
    {
     "data": {
      "image/png": "[encoded data removed]",
      "text/plain": [
       "<Figure size 640x480 with 1 Axes>"
      ]
     },
     "metadata": {},
     "output_type": "display_data"
    }
   ],
   "source": [
    "# plot 2: Histogram of action_taken\n",
    "plt.title('# plot 2: Histogram of Action Taken')\n",
    "plt.xlabel('Action taken record')\n",
    "plt.ylabel('Action taken count')\n",
    "plt.hist(action_taken_data, color='blue', bins = 30)\n",
    "plt.show()"
   ]
  },
  {
   "cell_type": "markdown",
   "id": "2c45e7b2-7a6d-4caf-93fb-b896c8edc2c4",
   "metadata": {},
   "source": [
    "According to plot 2, there is a significantly large number of people with Loan originated (1). The second and third largest group sets are Application denied by financial institution (3) and Application withdrawn by applicant (4). Excluding those with preapproval request denied by financial institution (7) and Preapproval request approved but not accepted (8), Application approved but not accepted (2) is the smallest group sets."
   ]
  },
  {
   "cell_type": "code",
   "execution_count": null,
   "id": "e75d57bd-2769-4219-8fbf-2503fbc74a09",
   "metadata": {},
   "outputs": [
    {
     "data": {
      "image/png": "[encoded data removed]",
      "text/plain": [
       "<Figure size 640x480 with 1 Axes>"
      ]
     },
     "metadata": {},
     "output_type": "display_data"
    }
   ],
   "source": [
    "# plot 3: Scatterplot of relationship of loan purpose and loan amount\n",
    "plt.title('plot 3: Scatterplot of relationship of loan purpose and loan amount')\n",
    "plt.xlabel('Loan purpose')\n",
    "plt.ylabel('Loan amount')\n",
    "plt.scatter(loan_purpose_data, loan_amount_000s_data, color='orange')\n",
    "plt.show()"
   ]
  },
  {
   "cell_type": "markdown",
   "id": "accc0a48-57e2-4323-9ba8-de5426fd6359",
   "metadata": {},
   "source": [
    "According to plot 3, the people with loan purpose \"Home improvement\" (2) usually has a lower loan amount. It makes sense in real life, because it cost much less to repair home than buying a home or refinancing. The loan amount varies the most for the purpose of \"Refinancing\" (3), with many higher amounts of loans than the other purposes. For the purpose of \"Home purchase\" (1), there are many high and low loan amounts exisiting, which shows a great variety for the cost of purchasing a house."
   ]
  },
  {
   "cell_type": "code",
   "execution_count": null,
   "id": "b0813630-62db-44ea-b0a2-684103b46c60",
   "metadata": {},
   "outputs": [
    {
     "data": {
      "image/png": "[encoded data removed]",
      "text/plain": [
       "<Figure size 640x480 with 1 Axes>"
      ]
     },
     "metadata": {},
     "output_type": "display_data"
    }
   ],
   "source": [
    "# plot 4: Histogram of loan type\n",
    "plt.title('plot 4: Histogram of loan type')\n",
    "plt.xlabel('Loan type')\n",
    "plt.ylabel('Loan type count')\n",
    "plt.hist(loan_type_data, color='blue', bins = 30)\n",
    "plt.show()"
   ]
  },
  {
   "cell_type": "markdown",
   "id": "3f6c4196-9790-4f25-9bee-a6f8cbd22db0",
   "metadata": {},
   "source": [
    "According to plot 4, the largest type is Conventional (any loan other than FHA, VA, FSA, or RHS loans) (1). The second largest loan type is FHA-insured (Federal Housing Administration) (2). The third largest loan type is VA-guaranteed (Veterans Administration) (3). The smallest loan type is FSA/RHS (Farm Service Agency or Rural Housing Service) (4)."
   ]
  },
  {
   "cell_type": "code",
   "execution_count": null,
   "id": "8f1cce38-cf6e-4aff-a275-5432b1e0f4d2",
   "metadata": {},
   "outputs": [
    {
     "data": {
      "image/png": "[encoded data removed]",
      "text/plain": [
       "<Figure size 640x480 with 1 Axes>"
      ]
     },
     "metadata": {},
     "output_type": "display_data"
    }
   ],
   "source": [
    "# plot 5: Histogram of co-applcant risk\n",
    "plt.title('plot 5: Histogram of co-applcant race')\n",
    "plt.xlabel('Co-applicant race data')\n",
    "plt.ylabel('Co-applicant race data count')\n",
    "plt.hist(co_race_data, color='blue', bins = 30)\n",
    "plt.show()"
   ]
  },
  {
   "cell_type": "markdown",
   "id": "272d4718-c937-4b23-abab-5d03b339b5e0",
   "metadata": {},
   "source": [
    "According to plot 5, most people have no co-applicant (8). For those with a co-applicant, white (5) people is at the largest amount, and the native Americans are at the lowest amount (1, 4), which is similar to the histogram of applicant race."
   ]
  },
  {
   "cell_type": "markdown",
   "id": "24c41f80",
   "metadata": {},
   "source": [
    "## Step 3: Research Question, Hypotheses, and Analysis Plan\n",
    "### Research Question\n",
    "Inputs: `Purchaser Type` (C), `Agency Code` (C), `Loan Type` (C), `Loan Amount` (N), `Applicant Income` (N)\n",
    "Outputs: `Action Taken ` (C)\n",
    "Evaluation Metrics: Recall\n",
    "\\* (C) represents Categorical and (N) represents Numerical\n",
    "\n",
    "The inputs we are interested in are `Purchaser Type`, `Loan Type`, `Property Type`, `Loan Purpose`, `Loan Amount`, and `Applicant Income` because they are, intuitively, the most applicable to whether a loan gets accepted or not. According to [investopedia](https://www.investopedia.com/articles/mortgages-real-estate/08/mortgage-candidate.asp), credit score, debt, income, and appraisal value have an impact on whether an applicant has successfully gets a mortgage, so I believe that these variables can be the most indicative of these measures. We're being intentional in not performing analysis based off of `Applicant Sex`, `Applicant Race`, or `Applicant Ethnicity`, because these factors should not affect whether an applicant gets approved or not (sensitive features).\n",
    "\n",
    "The main output we want to check is `Action Taken`, because this column indicates whether the loan was approved or not (aka originated). Another potential column of interest is `Denial Reason 1`, `Denial Reason 2`, or `Denial Reason 3` because it could be good supplemental information as to what was faulty about the application.\n",
    "\n",
    "Our main evaluation metric is recall because we believe that telling an applicant that they can't get a loan when they actually can is more detrimental than saying they can when they can't. Although there is the time aspect that goes into applying for a loan, it's better to apply and get rejected than not apply at all, because there is still a chance that the applicant could have gotten funding. However, although we are focusing on recall, we will still check other metrics like precision/F1 to make sure there isn't too much of a skew in the data. When applicable, we will state the p-values of our tests, which will indicate if our results are statistically significant.\n",
    "\n",
    "We will also evaluate across the sensitive features for fairness, focusing on predictive equality, but also taking into consideration statistical parity and calibration. We consider predictive equality to be the main focus because we want to ensure that our model isn't unfairly predicting one race/gender/ethnicity would fail to get a loan compared to others.\n",
    "\n",
    "Overall, the goal of this project is to create a loan approval prediction model that balances fairness and \"accuracy\" in the form of recall.\n",
    "\n",
    "### Hypothesis\n",
    "We predict that white people with a conventional loan will be the most likely to get approved in our model. This is due to the skew in our data towards a large amount of white people and conventional loans. This skew may be due to the makeup of the United States, which is majority white. Conventional loans also appear to be the most general and therefore most common type of loan we would see. By ensuring that our data is even across the different sensitive features, we predict that the model, in turn, will become more fair and representative for each sex, race, and ethnicity.\n",
    "\n",
    "### Analysis\n",
    "Since we have five people in our group, we will run five analysis:\n",
    "\n",
    "#### Analysis 1: Logistic Regression Model (Numerical Variables to Categorical)\n",
    "We will first run a logistic regression model using `Loan Amount` and `Applicant Income` to try to predict `Action Taken`. This is a initial test to see how well a model will run without any modifications to the data\n",
    "\n",
    "#### Analysis 2: KNN Model (Numerical Variables to Categorical)\n",
    "We will then run a KNN model using `Loan Amount` and `Applicant Income` to try to predict `Action Taken`. This is a initial test to see how well a model will run without any modifications to the data, to be compared to the results of analysis 1\n",
    "\n",
    "#### Analysis 3: Random Forest Model (Categorical Variables to Categorical)\n",
    "We will first run a random forest model using `Purchaser Type`, `Agency Code`, and `Loan Type` to try to predict `Action Taken`. This is an initial test to see how well a model will run without any modifications to the data, using the categorical variables provided.\n",
    "\n",
    "#### Analysis 4: Upsampled Logistic Regression Model or KNN (Numerical Variables to Categorical)\n",
    "Based on the model that performed better (in terms of accuracy) between KNN and Logistic, we will upsample the data (by downsampling the overrepresented groups (white people, etc.)) in order to try to create a more fair model (evaluated using predictive equality).\n",
    "\n",
    "#### Analysis 5: Upsampled Random Forest Model (Categorical Variables to Categorical)\n",
    "We will upsample then use the upsampled data for the random forest model in order to try to create a more fair model (evaluated using predictive equality).\n",
    "\n"
   ]
  }
 ],
 "metadata": {
  "kernelspec": {
   "display_name": "Python 3 (ipykernel)",
   "language": "python",
   "name": "python3"
  },
  "language_info": {
   "codemirror_mode": {
    "name": "ipython",
    "version": 3
   },
   "file_extension": ".py",
   "mimetype": "text/x-python",
   "name": "python",
   "nbconvert_exporter": "python",
   "pygments_lexer": "ipython3",
   "version": "3.12.2"
  }
 },
 "nbformat": 4,
 "nbformat_minor": 5
}
