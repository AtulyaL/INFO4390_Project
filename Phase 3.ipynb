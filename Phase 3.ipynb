{
 "cells": [
  {
   "cell_type": "markdown",
   "id": "e4e88f58-bf60-4962-8946-ee37571b69df",
   "metadata": {},
   "source": [
    "# Phase 3"
   ]
  },
  {
   "cell_type": "markdown",
   "id": "b02728aa-91d6-4cd6-9b78-a1eb960941ad",
   "metadata": {},
   "source": [
    "## 1. Introduction"
   ]
  },
  {
   "cell_type": "markdown",
   "id": "7456797c-5d53-4f94-86b4-edd12d06dd65",
   "metadata": {},
   "source": [
    "## 2. Datasheet"
   ]
  },
  {
   "cell_type": "markdown",
   "id": "09b7ee06-7be0-460b-83b7-795b024bf9c3",
   "metadata": {},
   "source": [
    "## 3. Cleaned data imports"
   ]
  },
  {
   "cell_type": "markdown",
   "id": "a8d4b8ed-28e2-4861-bdb0-c7091a9bd5c8",
   "metadata": {},
   "source": [
    "## 4. Summarize the data"
   ]
  },
  {
   "cell_type": "markdown",
   "id": "157b2df4-c0f5-4512-9ca1-668416335559",
   "metadata": {},
   "source": [
    "## 5. Modeling"
   ]
  },
  {
   "cell_type": "markdown",
   "id": "03f8373c-bba3-4d29-b572-8363a1b16193",
   "metadata": {},
   "source": [
    "## 6. Results"
   ]
  },
  {
   "cell_type": "markdown",
   "id": "f3fe3664-bd24-421b-a764-9121f2b73892",
   "metadata": {},
   "source": [
    "## 7. Conclusions & Limitations"
   ]
  },
  {
   "cell_type": "markdown",
   "id": "ae87dbc0-afdb-4985-973c-9254c32fabc9",
   "metadata": {},
   "source": [
    "## 8. Contribution Notes"
   ]
  },
  {
   "cell_type": "markdown",
   "id": "9c575ecf-7c5c-434a-b1cb-cffe87e1911b",
   "metadata": {},
   "source": [
    "## 9. Sources cited"
   ]
  },
  {
   "cell_type": "code",
   "execution_count": null,
   "id": "c5aedc8f-a679-4f0a-9b42-f7757a2a914b",
   "metadata": {},
   "outputs": [],
   "source": []
  }
 ],
 "metadata": {
  "kernelspec": {
   "display_name": "Python 3 (ipykernel)",
   "language": "python",
   "name": "python3"
  },
  "language_info": {
   "codemirror_mode": {
    "name": "ipython",
    "version": 3
   },
   "file_extension": ".py",
   "mimetype": "text/x-python",
   "name": "python",
   "nbconvert_exporter": "python",
   "pygments_lexer": "ipython3",
   "version": "3.11.7"
  }
 },
 "nbformat": 4,
 "nbformat_minor": 5
}
