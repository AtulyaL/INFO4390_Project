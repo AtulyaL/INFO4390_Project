{
 "cells": [
  {
   "cell_type": "markdown",
   "id": "e4e88f58-bf60-4962-8946-ee37571b69df",
   "metadata": {},
   "source": [
    "# Phase 3"
   ]
  },
  {
   "cell_type": "markdown",
   "id": "b02728aa-91d6-4cd6-9b78-a1eb960941ad",
   "metadata": {},
   "source": [
    "## 1. Introduction"
   ]
  },
  {
   "cell_type": "markdown",
   "id": "0b8989e0",
   "metadata": {},
   "source": [
    "### Research Question\n",
    "Inputs: `Applicant Race` (C), `Applicant Sex` (C), `County Code` (C), `Loan Amount` (N), `Applicant Income` (N) \\\n",
    "Outputs: `Action Taken` (C) \\\n",
    "Evaluation Metrics: Recall, Predictive Equality \\\n",
    "\\* (C) represents Categorical (Using Label Encoding) and (N) represents Numerical\n",
    "\n",
    "The inputs we are interested in are `Applicant Race`, `Applicant Sex`, `County Code`, `Loan Amount`, `Applicant Income` because `Applicant Income` and `Loan Amount` are, intuitively, the most applicable to whether a loan gets accepted or not. According to [investopedia](https://www.investopedia.com/articles/mortgages-real-estate/08/mortgage-candidate.asp) [1], credit score, debt, income, and appraisal value have an impact on whether an applicant has successfully gets a mortgage, so we believe that these variables can be the most indicative of these measures. We're including `Applicant Race`, `Applicant Sex` because these factors should not affect whether an applicant gets approved or not (sensitive features).\n",
    "\n",
    "The main output we want to check is `Action Taken`, because this column indicates whether the loan was approved or not (aka originated). Another potential column of interest is `Denial Reason 1`, `Denial Reason 2`, or `Denial Reason 3` because it could be good supplemental information as to what was faulty about the application, however the denial reason for most applicants will be undefined since most loans in the dataset are approved.\n",
    "\n",
    "Our main evaluation metric is recall because we believe that telling an applicant that they can't get a loan when they actually can is more detrimental than saying they can when they can't. Although there is the time aspect that goes into applying for a loan, it's better to apply and get rejected than not apply at all, because there is still a chance that the applicant could have gotten funding. However, although we are focusing on recall, we will still check other metrics like precision/F1 to make sure there isn't too much of a skew in the data.\n",
    "\n",
    "We will also evaluate across the sensitive features for fairness, focusing on predictive equality, but also taking into consideration statistical parity and calibration. We consider predictive equality to be the main focus because we want to ensure that our model isn't unfairly predicting one race/gender/ethnicity would fail to get a loan compared to others.\n",
    "\n",
    "Overall, the goal of this project is to create a loan approval prediction model that balances fairness and \"accuracy\" in the form of predictive equality and recall.\n",
    "\n",
    "### Hypotheses\n",
    "We predict that white people and males will be the most likely to get approved in our model. This is due to the skew in our data towards a large amount of white people and males. This skew may be due to the makeup of the United States, which is majority white. Conventional loans also appear to be the most general and therefore most common type of loan we would see. By ensuring that our data is even across the different sensitive features, we predict that the model, in turn, will become more fair and representative for each sex, race, and ethnicity.\n",
    "\n",
    "### Importance\n",
    "Loans are an important part to financial stability and should be accessible to everyone who deserves it. Our model will provide some insight on the fairness of the loan approval process when it relates to minorities, and the impact of protected traits in the approval process. This relates to algorithmic fairness as our model will be trained to balance fairness and \"accuracy\" (predictive equality and recall). In theory, a fair model should yield fair results; we want to test if this is true to bring attention to the current state of the loan approval process and raise conversation on the transparency of reasons for denial.\n",
    "\n",
    "\n",
    "### Related Work\n",
    "While there aren't any formal and notable works on loan approval, there are papers covering similar topics of the role of protected traits such as gender or race in the context of financial opportunities. For example, the paper [Leveraging Gender Proxies Can Lead to Fairer Credit Risk Predictions](https://papers.ssrn.com/sol3/papers.cfm?abstract_id=4602450) [2] evaluates gender bias in algorithms, using alternative data to evaluate credit risk prediction. Its takeaways include the fact incorporating strong gender proxies into the credit scoring process can potentially reduce the gender gap in credit risk prediction accuracy and credit allocation. This paper lies in the same domain as our project in the sense that they are both discovering ways to increase fairness in models that deal with data amongst different groups of people. Another paper that covers similar themes as our project is [Algorithmic Bias, Financial Inclusion, and Gender](https://www.womensworldbanking.org/wp-content/uploads/2021/02/2021_Algorithmic_Bias_Report.pdf) [3], which explores the use of synthetic data to discover potential areas of gender-based bias in relation to digital credit. This paper discusses different ways to avoid the historical themes of bias in relation to gender when using machine learning and artifiical intelligence. This is similar to our project's goal of discovering potential biases in the current state of the loan approval process and creating a model that is fair and mitigates this discrimination. The reason why no notable loan approval papers exist could be due to the fact that loan approval data is difficult to deal with and not as transparent as credit risk or digital credit. Credit is also something that is applicable to bigger groups of people; more people use credit cards than people that buy houses or run businesses, which is why the call for papers examining fairness for loan approvals is probably lower. Furthermore, loan approval data is also difficult because it is a more tedious task than something like applying for a credit card."
   ]
  },
  {
   "cell_type": "markdown",
   "id": "7456797c-5d53-4f94-86b4-edd12d06dd65",
   "metadata": {},
   "source": [
    "## 2. Datasheet"
   ]
  },
  {
   "cell_type": "markdown",
   "id": "09b7ee06-7be0-460b-83b7-795b024bf9c3",
   "metadata": {},
   "source": [
    "## 3. Cleaned data imports"
   ]
  },
  {
   "cell_type": "markdown",
   "id": "a8d4b8ed-28e2-4861-bdb0-c7091a9bd5c8",
   "metadata": {},
   "source": [
    "## 4. Summarize the data"
   ]
  },
  {
   "cell_type": "markdown",
   "id": "157b2df4-c0f5-4512-9ca1-668416335559",
   "metadata": {},
   "source": [
    "## 5. Modeling"
   ]
  },
  {
   "cell_type": "markdown",
   "id": "03f8373c-bba3-4d29-b572-8363a1b16193",
   "metadata": {},
   "source": [
    "## 6. Results"
   ]
  },
  {
   "cell_type": "markdown",
   "id": "f3fe3664-bd24-421b-a764-9121f2b73892",
   "metadata": {},
   "source": [
    "## 7. Conclusions & Limitations"
   ]
  },
  {
   "cell_type": "markdown",
   "id": "ae87dbc0-afdb-4985-973c-9254c32fabc9",
   "metadata": {},
   "source": [
    "## 8. Contribution Notes"
   ]
  },
  {
   "cell_type": "markdown",
   "id": "9c575ecf-7c5c-434a-b1cb-cffe87e1911b",
   "metadata": {},
   "source": [
    "## 9. Sources cited"
   ]
  },
  {
   "cell_type": "markdown",
   "id": "c5aedc8f-a679-4f0a-9b42-f7757a2a914b",
   "metadata": {},
   "source": [
    "[1] Investopedia. 5 Steps to Scoring a Mortgage. Article. Retrieved from https://www.investopedia.com/articles/mortgages-real-estate/08/mortgage-candidate.asp \\\n",
    "[2] Lee, J.Y. and Yang, J. 2023. Leveraging gender proxies can lead to fairer credit risk predictions, SSRN Electronic Journal. doi:10.2139/ssrn.4602450. \\\n",
    "[3] Kelly, S. and Mirpourian, M. 2021. Algorithmic Bias, Financial Inclusion, and Gender. Women’s World Banking Report. Women’s World Banking. Retrieved February 19, 2024 from: https://www.womensworldbanking.org/wp-content/uploads/2021/02/2021_Algorithmic_Bias_Report.pdf. "
   ]
  },
  {
   "cell_type": "markdown",
   "id": "24f09f68",
   "metadata": {},
   "source": []
  }
 ],
 "metadata": {
  "kernelspec": {
   "display_name": "Python 3 (ipykernel)",
   "language": "python",
   "name": "python3"
  },
  "language_info": {
   "codemirror_mode": {
    "name": "ipython",
    "version": 3
   },
   "file_extension": ".py",
   "mimetype": "text/x-python",
   "name": "python",
   "nbconvert_exporter": "python",
   "pygments_lexer": "ipython3",
   "version": "3.11.7"
  }
 },
 "nbformat": 4,
 "nbformat_minor": 5
}
